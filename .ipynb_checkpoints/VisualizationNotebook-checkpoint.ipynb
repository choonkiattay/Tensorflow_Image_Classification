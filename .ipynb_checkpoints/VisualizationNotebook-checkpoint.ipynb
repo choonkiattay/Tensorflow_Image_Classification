{
 "cells": [
  {
   "cell_type": "markdown",
   "metadata": {},
   "source": [
    "# Experiment 1"
   ]
  },
  {
   "cell_type": "code",
   "execution_count": 1,
   "metadata": {},
   "outputs": [],
   "source": [
    "import os\n",
    "import numpy as np\n",
    "import tensorflow as tf\n",
    "from tensorflow import keras as tfk\n",
    "from matplotlib import pyplot as plt"
   ]
  },
  {
   "cell_type": "markdown",
   "metadata": {},
   "source": [
    "## CNN Training"
   ]
  },
  {
   "cell_type": "code",
   "execution_count": 2,
   "metadata": {},
   "outputs": [],
   "source": [
    "def dataset_prep():\n",
    "    mnist = tf.keras.datasets.mnist\n",
    "\n",
    "    (data_train, label_train), (data_test, label_test) = mnist.load_data()\n",
    "    # # # Normalize 0 to 255 value matrix to 0 to 1 value matrix\n",
    "    # data_train, data_test = data_train/255.0, data_test/255.0\n",
    "    train_data = data_train.reshape(data_train.shape[0], 28, 28, 1)\n",
    "    train_label = np.asarray(label_train, dtype=np.int32)\n",
    "    test_data = data_test.reshape(data_test.shape[0], 28, 28, 1)\n",
    "    test_label = np.asarray(label_test, dtype=np.int32)\n",
    "\n",
    "    return train_data, train_label, test_data, test_label"
   ]
  },
  {
   "cell_type": "code",
   "execution_count": 3,
   "metadata": {},
   "outputs": [],
   "source": [
    "def lenet5():\n",
    "    model = tfk.models.Sequential([\n",
    "        tfk.layers.Conv2D(filters=6, kernel_size=(5, 5), activation=tf.nn.relu, input_shape=(28, 28, 1)),\n",
    "        tfk.layers.MaxPool2D(pool_size=(2, 2), strides=2),\n",
    "        tfk.layers.Conv2D(filters=16, kernel_size=(5, 5), activation=tf.nn.relu),\n",
    "        tfk.layers.MaxPool2D(pool_size=(2, 2), strides=2),\n",
    "        tfk.layers.Flatten(),\n",
    "        tfk.layers.Dense(120, activation=tf.nn.relu),\n",
    "        tfk.layers.Dense(84, activation=tf.nn.relu),\n",
    "        tfk.layers.Dense(10, activation=tf.nn.softmax),\n",
    "    ])\n",
    "\n",
    "    model.compile(optimizer=tfk.optimizers.Adadelta(), loss=tfk.losses.sparse_categorical_crossentropy,\n",
    "                  metrics=[tfk.metrics.sparse_categorical_accuracy])\n",
    "\n",
    "    return model"
   ]
  },
  {
   "cell_type": "code",
   "execution_count": 4,
   "metadata": {},
   "outputs": [],
   "source": [
    "# Create checkpoint callback\n",
    "checkpoint_path = \"/home/Tensorflow_Image_Classification/training_1/lenet5.ckpt\"\n",
    "checkpoint_dir = os.path.dirname(checkpoint_path)\n",
    "cp_callback = tf.keras.callbacks.ModelCheckpoint(filepath=checkpoint_path, save_weights_only=True, verbose=1,\n",
    "                                                 save_best_only=True)"
   ]
  },
  {
   "cell_type": "code",
   "execution_count": 5,
   "metadata": {},
   "outputs": [
    {
     "name": "stdout",
     "output_type": "stream",
     "text": [
      "WARNING:tensorflow:From /usr/local/lib/python3.6/dist-packages/tensorflow/python/ops/resource_variable_ops.py:435: colocate_with (from tensorflow.python.framework.ops) is deprecated and will be removed in a future version.\n",
      "Instructions for updating:\n",
      "Colocations handled automatically by placer.\n",
      "_________________________________________________________________\n",
      "Layer (type)                 Output Shape              Param #   \n",
      "=================================================================\n",
      "conv2d (Conv2D)              (None, 24, 24, 6)         156       \n",
      "_________________________________________________________________\n",
      "max_pooling2d (MaxPooling2D) (None, 12, 12, 6)         0         \n",
      "_________________________________________________________________\n",
      "conv2d_1 (Conv2D)            (None, 8, 8, 16)          2416      \n",
      "_________________________________________________________________\n",
      "max_pooling2d_1 (MaxPooling2 (None, 4, 4, 16)          0         \n",
      "_________________________________________________________________\n",
      "flatten (Flatten)            (None, 256)               0         \n",
      "_________________________________________________________________\n",
      "dense (Dense)                (None, 120)               30840     \n",
      "_________________________________________________________________\n",
      "dense_1 (Dense)              (None, 84)                10164     \n",
      "_________________________________________________________________\n",
      "dense_2 (Dense)              (None, 10)                850       \n",
      "=================================================================\n",
      "Total params: 44,426\n",
      "Trainable params: 44,426\n",
      "Non-trainable params: 0\n",
      "_________________________________________________________________\n"
     ]
    }
   ],
   "source": [
    "train_data, train_label, test_data, test_label = dataset_prep()\n",
    "model = lenet5()\n",
    "model.summary()"
   ]
  },
  {
   "cell_type": "code",
   "execution_count": 6,
   "metadata": {},
   "outputs": [
    {
     "name": "stdout",
     "output_type": "stream",
     "text": [
      "Train on 60000 samples, validate on 10000 samples\n",
      "Epoch 1/10\n",
      "59712/60000 [============================>.] - ETA: 0s - loss: 0.4829 - sparse_categorical_accuracy: 0.9215\n",
      "Epoch 00001: val_loss improved from inf to 0.10029, saving model to /home/Tensorflow_Image_Classification/training_1/lenet5.ckpt\n",
      "WARNING:tensorflow:This model was compiled with a Keras optimizer (<tensorflow.python.keras.optimizers.Adadelta object at 0x7f318099ac50>) but is being saved in TensorFlow format with `save_weights`. The model's weights will be saved, but unlike with TensorFlow optimizers in the TensorFlow format the optimizer's state will not be saved.\n",
      "\n",
      "Consider using a TensorFlow optimizer from `tf.train`.\n",
      "WARNING:tensorflow:From /usr/local/lib/python3.6/dist-packages/tensorflow/python/keras/engine/network.py:1436: update_checkpoint_state (from tensorflow.python.training.checkpoint_management) is deprecated and will be removed in a future version.\n",
      "Instructions for updating:\n",
      "Use tf.train.CheckpointManager to manage checkpoints rather than manually editing the Checkpoint proto.\n",
      "60000/60000 [==============================] - 5s 83us/sample - loss: 0.4811 - sparse_categorical_accuracy: 0.9217 - val_loss: 0.1003 - val_sparse_categorical_accuracy: 0.9680\n",
      "Epoch 2/10\n",
      "59680/60000 [============================>.] - ETA: 0s - loss: 0.0746 - sparse_categorical_accuracy: 0.9783\n",
      "Epoch 00002: val_loss improved from 0.10029 to 0.06352, saving model to /home/Tensorflow_Image_Classification/training_1/lenet5.ckpt\n",
      "WARNING:tensorflow:This model was compiled with a Keras optimizer (<tensorflow.python.keras.optimizers.Adadelta object at 0x7f318099ac50>) but is being saved in TensorFlow format with `save_weights`. The model's weights will be saved, but unlike with TensorFlow optimizers in the TensorFlow format the optimizer's state will not be saved.\n",
      "\n",
      "Consider using a TensorFlow optimizer from `tf.train`.\n",
      "60000/60000 [==============================] - 4s 70us/sample - loss: 0.0746 - sparse_categorical_accuracy: 0.9782 - val_loss: 0.0635 - val_sparse_categorical_accuracy: 0.9801\n",
      "Epoch 3/10\n",
      "59808/60000 [============================>.] - ETA: 0s - loss: 0.0531 - sparse_categorical_accuracy: 0.9841\n",
      "Epoch 00003: val_loss improved from 0.06352 to 0.05720, saving model to /home/Tensorflow_Image_Classification/training_1/lenet5.ckpt\n",
      "WARNING:tensorflow:This model was compiled with a Keras optimizer (<tensorflow.python.keras.optimizers.Adadelta object at 0x7f318099ac50>) but is being saved in TensorFlow format with `save_weights`. The model's weights will be saved, but unlike with TensorFlow optimizers in the TensorFlow format the optimizer's state will not be saved.\n",
      "\n",
      "Consider using a TensorFlow optimizer from `tf.train`.\n",
      "60000/60000 [==============================] - 4s 71us/sample - loss: 0.0531 - sparse_categorical_accuracy: 0.9841 - val_loss: 0.0572 - val_sparse_categorical_accuracy: 0.9839\n",
      "Epoch 4/10\n",
      "59616/60000 [============================>.] - ETA: 0s - loss: 0.0412 - sparse_categorical_accuracy: 0.9881\n",
      "Epoch 00004: val_loss did not improve from 0.05720\n",
      "60000/60000 [==============================] - 4s 71us/sample - loss: 0.0416 - sparse_categorical_accuracy: 0.9880 - val_loss: 0.0680 - val_sparse_categorical_accuracy: 0.9813\n",
      "Epoch 5/10\n",
      "59424/60000 [============================>.] - ETA: 0s - loss: 0.0343 - sparse_categorical_accuracy: 0.9901\n",
      "Epoch 00005: val_loss did not improve from 0.05720\n",
      "60000/60000 [==============================] - 4s 72us/sample - loss: 0.0344 - sparse_categorical_accuracy: 0.9900 - val_loss: 0.0614 - val_sparse_categorical_accuracy: 0.9847\n",
      "Epoch 6/10\n",
      "59264/60000 [============================>.] - ETA: 0s - loss: 0.0280 - sparse_categorical_accuracy: 0.9919\n",
      "Epoch 00006: val_loss improved from 0.05720 to 0.05089, saving model to /home/Tensorflow_Image_Classification/training_1/lenet5.ckpt\n",
      "WARNING:tensorflow:This model was compiled with a Keras optimizer (<tensorflow.python.keras.optimizers.Adadelta object at 0x7f318099ac50>) but is being saved in TensorFlow format with `save_weights`. The model's weights will be saved, but unlike with TensorFlow optimizers in the TensorFlow format the optimizer's state will not be saved.\n",
      "\n",
      "Consider using a TensorFlow optimizer from `tf.train`.\n",
      "60000/60000 [==============================] - 4s 74us/sample - loss: 0.0282 - sparse_categorical_accuracy: 0.9919 - val_loss: 0.0509 - val_sparse_categorical_accuracy: 0.9861\n",
      "Epoch 7/10\n",
      "59360/60000 [============================>.] - ETA: 0s - loss: 0.0239 - sparse_categorical_accuracy: 0.9934\n",
      "Epoch 00007: val_loss did not improve from 0.05089\n",
      "60000/60000 [==============================] - 5s 78us/sample - loss: 0.0240 - sparse_categorical_accuracy: 0.9934 - val_loss: 0.0607 - val_sparse_categorical_accuracy: 0.9855\n",
      "Epoch 8/10\n",
      "59872/60000 [============================>.] - ETA: 0s - loss: 0.0198 - sparse_categorical_accuracy: 0.9938\n",
      "Epoch 00008: val_loss did not improve from 0.05089\n",
      "60000/60000 [==============================] - 5s 80us/sample - loss: 0.0199 - sparse_categorical_accuracy: 0.9938 - val_loss: 0.0541 - val_sparse_categorical_accuracy: 0.9886\n",
      "Epoch 9/10\n",
      "59712/60000 [============================>.] - ETA: 0s - loss: 0.0177 - sparse_categorical_accuracy: 0.9950\n",
      "Epoch 00009: val_loss did not improve from 0.05089\n",
      "60000/60000 [==============================] - 5s 78us/sample - loss: 0.0176 - sparse_categorical_accuracy: 0.9950 - val_loss: 0.0571 - val_sparse_categorical_accuracy: 0.9882\n",
      "Epoch 10/10\n",
      "59968/60000 [============================>.] - ETA: 0s - loss: 0.0158 - sparse_categorical_accuracy: 0.9952\n",
      "Epoch 00010: val_loss did not improve from 0.05089\n",
      "60000/60000 [==============================] - 5s 77us/sample - loss: 0.0159 - sparse_categorical_accuracy: 0.9952 - val_loss: 0.0692 - val_sparse_categorical_accuracy: 0.9871\n"
     ]
    },
    {
     "data": {
      "text/plain": [
       "<tensorflow.python.keras.callbacks.History at 0x7f31801cebe0>"
      ]
     },
     "execution_count": 6,
     "metadata": {},
     "output_type": "execute_result"
    }
   ],
   "source": [
    "model.fit(train_data, train_label, epochs=10, validation_data=(test_data, test_label), callbacks=[cp_callback])"
   ]
  },
  {
   "cell_type": "code",
   "execution_count": 7,
   "metadata": {},
   "outputs": [
    {
     "name": "stdout",
     "output_type": "stream",
     "text": [
      "10000/10000 [==============================] - 0s 26us/sample - loss: 0.0692 - sparse_categorical_accuracy: 0.9871\n"
     ]
    },
    {
     "data": {
      "text/plain": [
       "[0.06915697224572287, 0.9871]"
      ]
     },
     "execution_count": 7,
     "metadata": {},
     "output_type": "execute_result"
    }
   ],
   "source": [
    "model.evaluate(test_data, test_label)"
   ]
  },
  {
   "cell_type": "markdown",
   "metadata": {},
   "source": [
    "## Layers study"
   ]
  },
  {
   "cell_type": "code",
   "execution_count": 8,
   "metadata": {},
   "outputs": [],
   "source": [
    "layer_outputs = [layer.output for layer in model.layers[:12]]\n",
    "activation_model = tfk.models.Model(inputs=model.input, outputs=layer_outputs)"
   ]
  },
  {
   "cell_type": "code",
   "execution_count": 48,
   "metadata": {},
   "outputs": [],
   "source": [
    "target_img = test_data[240]"
   ]
  },
  {
   "cell_type": "code",
   "execution_count": 49,
   "metadata": {},
   "outputs": [
    {
     "data": {
      "text/plain": [
       "(28, 28, 1)"
      ]
     },
     "execution_count": 49,
     "metadata": {},
     "output_type": "execute_result"
    }
   ],
   "source": [
    "target_img.shape"
   ]
  },
  {
   "cell_type": "code",
   "execution_count": 50,
   "metadata": {},
   "outputs": [],
   "source": [
    "test_data_tp = np.transpose(target_img, (1,0,2))"
   ]
  },
  {
   "cell_type": "code",
   "execution_count": 51,
   "metadata": {},
   "outputs": [],
   "source": [
    "test_img = np.hstack(test_data_tp)"
   ]
  },
  {
   "cell_type": "code",
   "execution_count": 52,
   "metadata": {},
   "outputs": [
    {
     "data": {
      "text/plain": [
       "<matplotlib.image.AxesImage at 0x7f3180115320>"
      ]
     },
     "execution_count": 52,
     "metadata": {},
     "output_type": "execute_result"
    },
    {
     "data": {
      "image/png": "[encoded data removed]",
      "text/plain": [
       "<Figure size 432x288 with 1 Axes>"
      ]
     },
     "metadata": {
      "needs_background": "light"
     },
     "output_type": "display_data"
    }
   ],
   "source": [
    "plt.imshow(test_img)"
   ]
  },
  {
   "cell_type": "code",
   "execution_count": 53,
   "metadata": {},
   "outputs": [],
   "source": [
    "img_tensor = np.expand_dims(target_img, axis=0)"
   ]
  },
  {
   "cell_type": "code",
   "execution_count": 54,
   "metadata": {},
   "outputs": [
    {
     "data": {
      "text/plain": [
       "(1, 28, 28, 1)"
      ]
     },
     "execution_count": 54,
     "metadata": {},
     "output_type": "execute_result"
    }
   ],
   "source": [
    "img_tensor.shape"
   ]
  },
  {
   "cell_type": "code",
   "execution_count": 55,
   "metadata": {},
   "outputs": [],
   "source": [
    "activations = activation_model.predict(img_tensor)"
   ]
  },
  {
   "cell_type": "code",
   "execution_count": 57,
   "metadata": {},
   "outputs": [
    {
     "data": {
      "text/plain": [
       "<matplotlib.image.AxesImage at 0x7f31786292b0>"
      ]
     },
     "execution_count": 57,
     "metadata": {},
     "output_type": "execute_result"
    },
    {
     "data": {
      "image/png": "[encoded data removed]",
      "text/plain": [
       "<Figure size 288x288 with 1 Axes>"
      ]
     },
     "metadata": {
      "needs_background": "light"
     },
     "output_type": "display_data"
    }
   ],
   "source": [
    "plt.matshow(first_layer_activation[0, :, :, 1], cmap='viridis')"
   ]
  },
  {
   "cell_type": "code",
   "execution_count": 19,
   "metadata": {},
   "outputs": [],
   "source": [
    "layer_names = []\n",
    "for layer in model.layers[:4]:\n",
    "    layer_names.append(layer.name)"
   ]
  },
  {
   "cell_type": "code",
   "execution_count": 21,
   "metadata": {
    "scrolled": false
   },
   "outputs": [
    {
     "name": "stdout",
     "output_type": "stream",
     "text": [
      "name: conv2d\n",
      "activation: (1, 24, 24, 6)\n",
      "feature_maps_shape: (6, 24, 24)\n",
      "name: max_pooling2d\n",
      "activation: (1, 12, 12, 6)\n",
      "feature_maps_shape: (6, 12, 12)\n",
      "name: conv2d_1\n",
      "activation: (1, 8, 8, 16)\n",
      "feature_maps_shape: (16, 8, 8)\n",
      "name: max_pooling2d_1\n",
      "activation: (1, 4, 4, 16)\n",
      "feature_maps_shape: (16, 4, 4)\n"
     ]
    }
   ],
   "source": [
    "fmaps_pool = []\n",
    "for layer_name, layer_activation in zip(layer_names, activations):\n",
    "    print(\"name: {0}\\nactivation: {1}\".format(layer_name, layer_activation.shape))\n",
    "    n_features = layer_activation.shape[-1]\n",
    "    size = layer_activation.shape[1]\n",
    "    for fmaps in layer_activation:\n",
    "        fmapsT = np.transpose(fmaps, (2, 0, 1))\n",
    "        print(\"feature_maps_shape: {}\".format(fmapsT.shape))\n",
    "        fmap_layer = []\n",
    "        for fmapT in fmapsT:\n",
    "            fmap_layer.append(fmapT)\n",
    "        fmaps_pool.append(fmap_layer)"
   ]
  },
  {
   "cell_type": "code",
   "execution_count": 22,
   "metadata": {},
   "outputs": [
    {
     "name": "stdout",
     "output_type": "stream",
     "text": [
      "(24, 144)\n",
      "(12, 72)\n",
      "(8, 128)\n",
      "(4, 64)\n"
     ]
    },
    {
     "data": {
      "image/png": "[encoded data removed]",
      "text/plain": [
       "<Figure size 1152x192 with 1 Axes>"
      ]
     },
     "metadata": {
      "needs_background": "light"
     },
     "output_type": "display_data"
    },
    {
     "data": {
      "image/png": "[encoded data removed]",
      "text/plain": [
       "<Figure size 1152x192 with 1 Axes>"
      ]
     },
     "metadata": {
      "needs_background": "light"
     },
     "output_type": "display_data"
    },
    {
     "data": {
      "image/png": "[encoded data removed]",
      "text/plain": [
       "<Figure size 1152x144 with 1 Axes>"
      ]
     },
     "metadata": {
      "needs_background": "light"
     },
     "output_type": "display_data"
    },
    {
     "data": {
      "image/png": "[encoded data removed]",
      "text/plain": [
       "<Figure size 1152x144 with 1 Axes>"
      ]
     },
     "metadata": {
      "needs_background": "light"
     },
     "output_type": "display_data"
    }
   ],
   "source": [
    "for x in fmaps_pool:\n",
    "    map_stack = np.hstack(x)\n",
    "    print(map_stack.shape)\n",
    "    plt.matshow(map_stack, cmap='viridis')"
   ]
  },
  {
   "cell_type": "code",
   "execution_count": null,
   "metadata": {},
   "outputs": [],
   "source": [
    "img_tensor = np.expand_dims(map_stack, axis=0)"
   ]
  },
  {
   "cell_type": "code",
   "execution_count": null,
   "metadata": {},
   "outputs": [],
   "source": [
    "images_per_row = 6"
   ]
  },
  {
   "cell_type": "code",
   "execution_count": null,
   "metadata": {
    "scrolled": false
   },
   "outputs": [],
   "source": [
    "for layer_name, layer_activation in zip(layer_names, activations):\n",
    "    n_features = layer_activation.shape[-1]\n",
    "    size = layer_activation.shape[1]\n",
    "    n_cols = n_features\n",
    "    display_grid = np.zeros((size * n_cols, images_per_row * size))\n",
    "    for col in range(int(np.ceil(n_cols/images_per_row))):\n",
    "        for row in range(images_per_row):\n",
    "            if col * images_per_row + row < n_cols:\n",
    "                channel_image = layer_activation[0,:, :,col * images_per_row + row]\n",
    "                display_grid[col * size : (col + 1) * size,row * size : (row + 1) * size] = channel_image\n",
    "    scale = 1. / size\n",
    "    plt.figure(figsize=(scale * display_grid.shape[1],\n",
    "                        scale * display_grid.shape[0]))\n",
    "    plt.title(layer_name)\n",
    "    plt.grid(False)\n",
    "    plt.imshow(display_grid, aspect='auto', cmap='viridis')"
   ]
  },
  {
   "cell_type": "code",
   "execution_count": null,
   "metadata": {
    "scrolled": false
   },
   "outputs": [],
   "source": [
    "for layer_name, layer_activation in zip(layer_names, activations):\n",
    "    n_features = layer_activation.shape[-1]\n",
    "    size = layer_activation.shape[1]\n",
    "    n_cols = n_features\n",
    "    display_grid = np.zeros((size * n_cols, images_per_row * size))\n",
    "    for col in range(int(np.ceil(n_cols/images_per_row))):\n",
    "#     for col in range(n_cols):\n",
    "        for row in range(images_per_row):\n",
    "            print(col,images_per_row,row)\n",
    "            print(col * images_per_row + row)\n",
    "            if col * images_per_row + row < n_cols:\n",
    "                channel_image = layer_activation[0,:, :,col * images_per_row + row]\n",
    "                channel_image -= channel_image.mean()\n",
    "                channel_image /= channel_image.std()\n",
    "                channel_image *= 64\n",
    "                channel_image += 128\n",
    "                channel_image = np.clip(channel_image, 0, 255).astype('uint8')\n",
    "                display_grid[col * size : (col + 1) * size,row * size : (row + 1) * size] = channel_image\n",
    "    scale = 1. / size\n",
    "    plt.figure(figsize=(scale * display_grid.shape[1],\n",
    "                        scale * display_grid.shape[0]))\n",
    "    plt.title(layer_name)\n",
    "    plt.grid(False)\n",
    "    plt.imshow(display_grid, aspect='auto', cmap='viridis')"
   ]
  },
  {
   "cell_type": "code",
   "execution_count": null,
   "metadata": {},
   "outputs": [],
   "source": []
  }
 ],
 "metadata": {
  "kernelspec": {
   "display_name": "Python 3",
   "language": "python",
   "name": "python3"
  },
  "language_info": {
   "codemirror_mode": {
    "name": "ipython",
    "version": 3
   },
   "file_extension": ".py",
   "mimetype": "text/x-python",
   "name": "python",
   "nbconvert_exporter": "python",
   "pygments_lexer": "ipython3",
   "version": "3.6.8"
  }
 },
 "nbformat": 4,
 "nbformat_minor": 2
}
