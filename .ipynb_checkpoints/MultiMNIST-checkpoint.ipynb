{
 "cells": [
  {
   "cell_type": "markdown",
   "metadata": {},
   "source": [
    "# Experiment 2"
   ]
  },
  {
   "cell_type": "code",
   "execution_count": 1,
   "metadata": {},
   "outputs": [],
   "source": [
    "import os\n",
    "import numpy as np\n",
    "import tensorflow as tf\n",
    "from tensorflow import keras as tfk\n",
    "from matplotlib import pyplot as plt"
   ]
  },
  {
   "cell_type": "markdown",
   "metadata": {},
   "source": [
    "## CNN Training"
   ]
  },
  {
   "cell_type": "code",
   "execution_count": 2,
   "metadata": {},
   "outputs": [],
   "source": [
    "def dataset_prep_mnist():\n",
    "    mnist = tf.keras.datasets.mnist\n",
    "\n",
    "    (data_train, label_train), (data_test, label_test) = mnist.load_data()\n",
    "    # # # Normalize 0 to 255 value matrix to 0 to 1 value matrix\n",
    "    # data_train, data_test = data_train/255.0, data_test/255.0\n",
    "    train_data = data_train.reshape(data_train.shape[0], 28, 28, 1)\n",
    "    train_label = np.asarray(label_train, dtype=np.int32)\n",
    "    test_data = data_test.reshape(data_test.shape[0], 28, 28, 1)\n",
    "    test_label = np.asarray(label_test, dtype=np.int32)\n",
    "\n",
    "    return train_data, train_label, test_data, test_label"
   ]
  },
  {
   "cell_type": "code",
   "execution_count": 3,
   "metadata": {},
   "outputs": [],
   "source": [
    "def lenet5():\n",
    "    model = tfk.models.Sequential([\n",
    "        tfk.layers.Conv2D(filters=6, kernel_size=(5, 5), activation=tf.nn.relu, input_shape=(28, 28, 1)),\n",
    "        tfk.layers.MaxPool2D(pool_size=(2, 2), strides=2),\n",
    "        tfk.layers.Conv2D(filters=16, kernel_size=(5, 5), activation=tf.nn.relu),\n",
    "        tfk.layers.MaxPool2D(pool_size=(2, 2), strides=2),\n",
    "        tfk.layers.Flatten(),\n",
    "        tfk.layers.Dense(120, activation=tf.nn.relu),\n",
    "        tfk.layers.Dense(84, activation=tf.nn.relu),\n",
    "        tfk.layers.Dense(10, activation=tf.nn.softmax),\n",
    "    ])\n",
    "\n",
    "#     model.compile(optimizer=tfk.optimizers.SGD(lr=0.001, decay=0.000001, momentum=0.5), loss=tfk.losses.sparse_categorical_crossentropy,\n",
    "#                   metrics=[tfk.metrics.sparse_categorical_accuracy])\n",
    "    \n",
    "    model.compile(optimizer=tfk.optimizers.Adadelta(), loss=tfk.losses.sparse_categorical_crossentropy,\n",
    "                  metrics=[tfk.metrics.sparse_categorical_accuracy])\n",
    "\n",
    "    return model"
   ]
  },
  {
   "cell_type": "code",
   "execution_count": 4,
   "metadata": {},
   "outputs": [],
   "source": [
    "# Create checkpoint callback\n",
    "checkpoint_path = \"/home/Tensorflow_Image_Classification/training_1/lenet5.ckpt\"\n",
    "checkpoint_dir = os.path.dirname(checkpoint_path)\n",
    "cp_callback = tf.keras.callbacks.ModelCheckpoint(filepath=checkpoint_path, save_weights_only=True, verbose=1,\n",
    "                                                 save_best_only=True)"
   ]
  },
  {
   "cell_type": "code",
   "execution_count": 5,
   "metadata": {},
   "outputs": [
    {
     "name": "stdout",
     "output_type": "stream",
     "text": [
      "WARNING:tensorflow:From /usr/local/lib/python3.6/dist-packages/tensorflow/python/ops/resource_variable_ops.py:435: colocate_with (from tensorflow.python.framework.ops) is deprecated and will be removed in a future version.\n",
      "Instructions for updating:\n",
      "Colocations handled automatically by placer.\n",
      "_________________________________________________________________\n",
      "Layer (type)                 Output Shape              Param #   \n",
      "=================================================================\n",
      "conv2d (Conv2D)              (None, 24, 24, 6)         156       \n",
      "_________________________________________________________________\n",
      "max_pooling2d (MaxPooling2D) (None, 12, 12, 6)         0         \n",
      "_________________________________________________________________\n",
      "conv2d_1 (Conv2D)            (None, 8, 8, 16)          2416      \n",
      "_________________________________________________________________\n",
      "max_pooling2d_1 (MaxPooling2 (None, 4, 4, 16)          0         \n",
      "_________________________________________________________________\n",
      "flatten (Flatten)            (None, 256)               0         \n",
      "_________________________________________________________________\n",
      "dense (Dense)                (None, 120)               30840     \n",
      "_________________________________________________________________\n",
      "dense_1 (Dense)              (None, 84)                10164     \n",
      "_________________________________________________________________\n",
      "dense_2 (Dense)              (None, 10)                850       \n",
      "=================================================================\n",
      "Total params: 44,426\n",
      "Trainable params: 44,426\n",
      "Non-trainable params: 0\n",
      "_________________________________________________________________\n"
     ]
    }
   ],
   "source": [
    "train_data, train_label, test_data, test_label = dataset_prep_mnist()\n",
    "model = lenet5()\n",
    "model.summary()"
   ]
  },
  {
   "cell_type": "code",
   "execution_count": 6,
   "metadata": {},
   "outputs": [
    {
     "name": "stdout",
     "output_type": "stream",
     "text": [
      "Train on 60000 samples, validate on 10000 samples\n",
      "Epoch 1/8\n",
      "59072/60000 [============================>.] - ETA: 0s - loss: 8.0109 - sparse_categorical_accuracy: 0.4626\n",
      "Epoch 00001: val_loss improved from inf to 0.17916, saving model to /home/Tensorflow_Image_Classification/training_1/lenet5.ckpt\n",
      "WARNING:tensorflow:This model was compiled with a Keras optimizer (<tensorflow.python.keras.optimizers.Adadelta object at 0x7fd40ce4e358>) but is being saved in TensorFlow format with `save_weights`. The model's weights will be saved, but unlike with TensorFlow optimizers in the TensorFlow format the optimizer's state will not be saved.\n",
      "\n",
      "Consider using a TensorFlow optimizer from `tf.train`.\n",
      "WARNING:tensorflow:From /usr/local/lib/python3.6/dist-packages/tensorflow/python/keras/engine/network.py:1436: update_checkpoint_state (from tensorflow.python.training.checkpoint_management) is deprecated and will be removed in a future version.\n",
      "Instructions for updating:\n",
      "Use tf.train.CheckpointManager to manage checkpoints rather than manually editing the Checkpoint proto.\n",
      "60000/60000 [==============================] - 3s 50us/sample - loss: 7.8896 - sparse_categorical_accuracy: 0.4701 - val_loss: 0.1792 - val_sparse_categorical_accuracy: 0.9487\n",
      "Epoch 2/8\n",
      "59712/60000 [============================>.] - ETA: 0s - loss: 0.1168 - sparse_categorical_accuracy: 0.9661\n",
      "Epoch 00002: val_loss improved from 0.17916 to 0.08251, saving model to /home/Tensorflow_Image_Classification/training_1/lenet5.ckpt\n",
      "WARNING:tensorflow:This model was compiled with a Keras optimizer (<tensorflow.python.keras.optimizers.Adadelta object at 0x7fd40ce4e358>) but is being saved in TensorFlow format with `save_weights`. The model's weights will be saved, but unlike with TensorFlow optimizers in the TensorFlow format the optimizer's state will not be saved.\n",
      "\n",
      "Consider using a TensorFlow optimizer from `tf.train`.\n",
      "60000/60000 [==============================] - 2s 37us/sample - loss: 0.1173 - sparse_categorical_accuracy: 0.9661 - val_loss: 0.0825 - val_sparse_categorical_accuracy: 0.9740\n",
      "Epoch 3/8\n",
      "59840/60000 [============================>.] - ETA: 0s - loss: 0.0709 - sparse_categorical_accuracy: 0.9785\n",
      "Epoch 00003: val_loss improved from 0.08251 to 0.06409, saving model to /home/Tensorflow_Image_Classification/training_1/lenet5.ckpt\n",
      "WARNING:tensorflow:This model was compiled with a Keras optimizer (<tensorflow.python.keras.optimizers.Adadelta object at 0x7fd40ce4e358>) but is being saved in TensorFlow format with `save_weights`. The model's weights will be saved, but unlike with TensorFlow optimizers in the TensorFlow format the optimizer's state will not be saved.\n",
      "\n",
      "Consider using a TensorFlow optimizer from `tf.train`.\n",
      "60000/60000 [==============================] - 2s 38us/sample - loss: 0.0709 - sparse_categorical_accuracy: 0.9785 - val_loss: 0.0641 - val_sparse_categorical_accuracy: 0.9804\n",
      "Epoch 4/8\n",
      "59584/60000 [============================>.] - ETA: 0s - loss: 0.0532 - sparse_categorical_accuracy: 0.9843\n",
      "Epoch 00004: val_loss did not improve from 0.06409\n",
      "60000/60000 [==============================] - 2s 36us/sample - loss: 0.0529 - sparse_categorical_accuracy: 0.9843 - val_loss: 0.0680 - val_sparse_categorical_accuracy: 0.9819\n",
      "Epoch 5/8\n",
      "58624/60000 [============================>.] - ETA: 0s - loss: 0.0405 - sparse_categorical_accuracy: 0.9878\n",
      "Epoch 00005: val_loss improved from 0.06409 to 0.05860, saving model to /home/Tensorflow_Image_Classification/training_1/lenet5.ckpt\n",
      "WARNING:tensorflow:This model was compiled with a Keras optimizer (<tensorflow.python.keras.optimizers.Adadelta object at 0x7fd40ce4e358>) but is being saved in TensorFlow format with `save_weights`. The model's weights will be saved, but unlike with TensorFlow optimizers in the TensorFlow format the optimizer's state will not be saved.\n",
      "\n",
      "Consider using a TensorFlow optimizer from `tf.train`.\n",
      "60000/60000 [==============================] - 2s 39us/sample - loss: 0.0406 - sparse_categorical_accuracy: 0.9879 - val_loss: 0.0586 - val_sparse_categorical_accuracy: 0.9839\n",
      "Epoch 6/8\n",
      "59712/60000 [============================>.] - ETA: 0s - loss: 0.0334 - sparse_categorical_accuracy: 0.9901\n",
      "Epoch 00006: val_loss improved from 0.05860 to 0.05850, saving model to /home/Tensorflow_Image_Classification/training_1/lenet5.ckpt\n",
      "WARNING:tensorflow:This model was compiled with a Keras optimizer (<tensorflow.python.keras.optimizers.Adadelta object at 0x7fd40ce4e358>) but is being saved in TensorFlow format with `save_weights`. The model's weights will be saved, but unlike with TensorFlow optimizers in the TensorFlow format the optimizer's state will not be saved.\n",
      "\n",
      "Consider using a TensorFlow optimizer from `tf.train`.\n",
      "60000/60000 [==============================] - 2s 40us/sample - loss: 0.0334 - sparse_categorical_accuracy: 0.9900 - val_loss: 0.0585 - val_sparse_categorical_accuracy: 0.9846\n",
      "Epoch 7/8\n",
      "58752/60000 [============================>.] - ETA: 0s - loss: 0.0271 - sparse_categorical_accuracy: 0.9915\n",
      "Epoch 00007: val_loss did not improve from 0.05850\n",
      "60000/60000 [==============================] - 2s 38us/sample - loss: 0.0270 - sparse_categorical_accuracy: 0.9916 - val_loss: 0.0593 - val_sparse_categorical_accuracy: 0.9848\n",
      "Epoch 8/8\n",
      "59136/60000 [============================>.] - ETA: 0s - loss: 0.0225 - sparse_categorical_accuracy: 0.9929\n",
      "Epoch 00008: val_loss did not improve from 0.05850\n",
      "60000/60000 [==============================] - 2s 40us/sample - loss: 0.0226 - sparse_categorical_accuracy: 0.9929 - val_loss: 0.0593 - val_sparse_categorical_accuracy: 0.9870\n"
     ]
    },
    {
     "data": {
      "text/plain": [
       "<tensorflow.python.keras.callbacks.History at 0x7fd40c5b4278>"
      ]
     },
     "execution_count": 6,
     "metadata": {},
     "output_type": "execute_result"
    }
   ],
   "source": [
    "model.fit(train_data, train_label, epochs=8, batch_size=64, validation_data=(test_data, test_label), callbacks=[cp_callback])"
   ]
  },
  {
   "cell_type": "code",
   "execution_count": 7,
   "metadata": {},
   "outputs": [
    {
     "name": "stdout",
     "output_type": "stream",
     "text": [
      "10000/10000 [==============================] - 0s 29us/sample - loss: 0.0593 - sparse_categorical_accuracy: 0.9870\n"
     ]
    },
    {
     "data": {
      "text/plain": [
       "[0.05933314996289373, 0.987]"
      ]
     },
     "execution_count": 7,
     "metadata": {},
     "output_type": "execute_result"
    }
   ],
   "source": [
    "model.evaluate(test_data, test_label)"
   ]
  },
  {
   "cell_type": "markdown",
   "metadata": {},
   "source": [
    "## Layers study"
   ]
  },
  {
   "cell_type": "code",
   "execution_count": 8,
   "metadata": {},
   "outputs": [],
   "source": [
    "# Extract Bottom 4 layers\n",
    "conv_layer_outputs = [layer.output for layer in model.layers[:4]]\n",
    "conv_activation_model = tfk.models.Model(inputs=model.input, outputs=conv_layer_outputs)"
   ]
  },
  {
   "cell_type": "code",
   "execution_count": 9,
   "metadata": {},
   "outputs": [],
   "source": [
    "# Extract layers after layer #4\n",
    "nn_layer_outputs = [layer.output for layer in model.layers[5:]]\n",
    "nn_activation_model = tfk.models.Model(inputs=model.input, outputs=nn_layer_outputs)"
   ]
  },
  {
   "cell_type": "markdown",
   "metadata": {},
   "source": [
    "### MNIST Testset #1"
   ]
  },
  {
   "cell_type": "code",
   "execution_count": 10,
   "metadata": {},
   "outputs": [],
   "source": [
    "target_img_mnist1 = test_data[108]"
   ]
  },
  {
   "cell_type": "code",
   "execution_count": 11,
   "metadata": {},
   "outputs": [
    {
     "data": {
      "text/plain": [
       "(28, 28, 1)"
      ]
     },
     "execution_count": 11,
     "metadata": {},
     "output_type": "execute_result"
    }
   ],
   "source": [
    "target_img_mnist1.shape"
   ]
  },
  {
   "cell_type": "code",
   "execution_count": 12,
   "metadata": {},
   "outputs": [],
   "source": [
    "test_data_tp_mnist1 = np.transpose(target_img_mnist1, (1,0,2))"
   ]
  },
  {
   "cell_type": "code",
   "execution_count": 13,
   "metadata": {},
   "outputs": [],
   "source": [
    "test_img_mnist1 = np.hstack(test_data_tp_mnist1)"
   ]
  },
  {
   "cell_type": "code",
   "execution_count": 14,
   "metadata": {},
   "outputs": [
    {
     "data": {
      "text/plain": [
       "(28, 28)"
      ]
     },
     "execution_count": 14,
     "metadata": {},
     "output_type": "execute_result"
    }
   ],
   "source": [
    "test_img_mnist1.shape"
   ]
  },
  {
   "cell_type": "code",
   "execution_count": 15,
   "metadata": {},
   "outputs": [
    {
     "data": {
      "text/plain": [
       "<matplotlib.image.AxesImage at 0x7fd40c489160>"
      ]
     },
     "execution_count": 15,
     "metadata": {},
     "output_type": "execute_result"
    },
    {
     "data": {
      "image/png": "[encoded data removed]",
      "text/plain": [
       "<Figure size 288x288 with 1 Axes>"
      ]
     },
     "metadata": {
      "needs_background": "light"
     },
     "output_type": "display_data"
    }
   ],
   "source": [
    "plt.matshow(test_img_mnist1)"
   ]
  },
  {
   "cell_type": "code",
   "execution_count": 16,
   "metadata": {},
   "outputs": [],
   "source": [
    "img_tensor_mnist1 = np.expand_dims(target_img_mnist1, axis=0)"
   ]
  },
  {
   "cell_type": "code",
   "execution_count": 17,
   "metadata": {},
   "outputs": [
    {
     "data": {
      "text/plain": [
       "(1, 28, 28, 1)"
      ]
     },
     "execution_count": 17,
     "metadata": {},
     "output_type": "execute_result"
    }
   ],
   "source": [
    "img_tensor_mnist1.shape"
   ]
  },
  {
   "cell_type": "markdown",
   "metadata": {},
   "source": [
    "### MNIST Testset #2"
   ]
  },
  {
   "cell_type": "code",
   "execution_count": 18,
   "metadata": {},
   "outputs": [],
   "source": [
    "target_img_mnist2 = test_data[113]"
   ]
  },
  {
   "cell_type": "code",
   "execution_count": 19,
   "metadata": {},
   "outputs": [
    {
     "data": {
      "text/plain": [
       "(28, 28, 1)"
      ]
     },
     "execution_count": 19,
     "metadata": {},
     "output_type": "execute_result"
    }
   ],
   "source": [
    "target_img_mnist2.shape"
   ]
  },
  {
   "cell_type": "code",
   "execution_count": 20,
   "metadata": {},
   "outputs": [],
   "source": [
    "test_data_tp_mnist2 = np.transpose(target_img_mnist2, (1,0,2))"
   ]
  },
  {
   "cell_type": "code",
   "execution_count": 21,
   "metadata": {},
   "outputs": [],
   "source": [
    "test_img_mnist2 = np.hstack(test_data_tp_mnist2)"
   ]
  },
  {
   "cell_type": "code",
   "execution_count": 22,
   "metadata": {},
   "outputs": [
    {
     "data": {
      "text/plain": [
       "(28, 28)"
      ]
     },
     "execution_count": 22,
     "metadata": {},
     "output_type": "execute_result"
    }
   ],
   "source": [
    "test_img_mnist2.shape"
   ]
  },
  {
   "cell_type": "code",
   "execution_count": 23,
   "metadata": {},
   "outputs": [
    {
     "data": {
      "text/plain": [
       "<matplotlib.image.AxesImage at 0x7fd40c3a1048>"
      ]
     },
     "execution_count": 23,
     "metadata": {},
     "output_type": "execute_result"
    },
    {
     "data": {
      "image/png": "[encoded data removed]",
      "text/plain": [
       "<Figure size 288x288 with 1 Axes>"
      ]
     },
     "metadata": {
      "needs_background": "light"
     },
     "output_type": "display_data"
    }
   ],
   "source": [
    "plt.matshow(test_img_mnist2)"
   ]
  },
  {
   "cell_type": "code",
   "execution_count": 24,
   "metadata": {},
   "outputs": [],
   "source": [
    "img_tensor_mnist2 = np.expand_dims(target_img_mnist2, axis=0)"
   ]
  },
  {
   "cell_type": "code",
   "execution_count": 25,
   "metadata": {},
   "outputs": [
    {
     "data": {
      "text/plain": [
       "(1, 28, 28, 1)"
      ]
     },
     "execution_count": 25,
     "metadata": {},
     "output_type": "execute_result"
    }
   ],
   "source": [
    "img_tensor_mnist2.shape"
   ]
  },
  {
   "cell_type": "markdown",
   "metadata": {},
   "source": [
    "### Convolution Activation response to given data"
   ]
  },
  {
   "cell_type": "markdown",
   "metadata": {},
   "source": [
    "### MNIST #1"
   ]
  },
  {
   "cell_type": "code",
   "execution_count": 26,
   "metadata": {},
   "outputs": [],
   "source": [
    "conv_activations = conv_activation_model.predict(img_tensor_mnist1)\n",
    "first_conv_activation = conv_activations[0]"
   ]
  },
  {
   "cell_type": "code",
   "execution_count": 27,
   "metadata": {},
   "outputs": [
    {
     "data": {
      "text/plain": [
       "<matplotlib.image.AxesImage at 0x7fd40c37f710>"
      ]
     },
     "execution_count": 27,
     "metadata": {},
     "output_type": "execute_result"
    },
    {
     "data": {
      "image/png": "[encoded data removed]",
      "text/plain": [
       "<Figure size 288x288 with 1 Axes>"
      ]
     },
     "metadata": {
      "needs_background": "light"
     },
     "output_type": "display_data"
    }
   ],
   "source": [
    "plt.matshow(first_conv_activation[0, :, :, 0], cmap='viridis')"
   ]
  },
  {
   "cell_type": "code",
   "execution_count": 28,
   "metadata": {},
   "outputs": [],
   "source": [
    "layer_names = []\n",
    "for layer in model.layers[:4]:\n",
    "    layer_names.append(layer.name)"
   ]
  },
  {
   "cell_type": "code",
   "execution_count": 29,
   "metadata": {
    "scrolled": false
   },
   "outputs": [
    {
     "name": "stdout",
     "output_type": "stream",
     "text": [
      "name: conv2d\n",
      "activation: (1, 24, 24, 6)\n",
      "feature_maps_shape: (6, 24, 24)\n",
      "name: max_pooling2d\n",
      "activation: (1, 12, 12, 6)\n",
      "feature_maps_shape: (6, 12, 12)\n",
      "name: conv2d_1\n",
      "activation: (1, 8, 8, 16)\n",
      "feature_maps_shape: (16, 8, 8)\n",
      "name: max_pooling2d_1\n",
      "activation: (1, 4, 4, 16)\n",
      "feature_maps_shape: (16, 4, 4)\n"
     ]
    }
   ],
   "source": [
    "fmaps_pool = []\n",
    "for layer_name, layer_activation in zip(layer_names, conv_activations):\n",
    "    print(\"name: {0}\\nactivation: {1}\".format(layer_name, layer_activation.shape))\n",
    "    n_features = layer_activation.shape[-1]\n",
    "    size = layer_activation.shape[1]\n",
    "    for fmaps in layer_activation:\n",
    "        fmapsT = np.transpose(fmaps, (2, 0, 1))\n",
    "        print(\"feature_maps_shape: {}\".format(fmapsT.shape))\n",
    "        fmap_layer = []\n",
    "        for fmapT in fmapsT:\n",
    "            fmap_layer.append(fmapT)\n",
    "        fmaps_pool.append(fmap_layer)"
   ]
  },
  {
   "cell_type": "code",
   "execution_count": 30,
   "metadata": {
    "scrolled": false
   },
   "outputs": [
    {
     "name": "stdout",
     "output_type": "stream",
     "text": [
      "(24, 144)\n",
      "(12, 72)\n",
      "(8, 128)\n",
      "(4, 64)\n"
     ]
    },
    {
     "data": {
      "image/png": "[encoded data removed]",
      "text/plain": [
       "<Figure size 1152x192 with 1 Axes>"
      ]
     },
     "metadata": {
      "needs_background": "light"
     },
     "output_type": "display_data"
    },
    {
     "data": {
      "image/png": "[encoded data removed]",
      "text/plain": [
       "<Figure size 1152x192 with 1 Axes>"
      ]
     },
     "metadata": {
      "needs_background": "light"
     },
     "output_type": "display_data"
    },
    {
     "data": {
      "image/png": "[encoded data removed]",
      "text/plain": [
       "<Figure size 1152x144 with 1 Axes>"
      ]
     },
     "metadata": {
      "needs_background": "light"
     },
     "output_type": "display_data"
    },
    {
     "data": {
      "image/png": "[encoded data removed]",
      "text/plain": [
       "<Figure size 1152x144 with 1 Axes>"
      ]
     },
     "metadata": {
      "needs_background": "light"
     },
     "output_type": "display_data"
    }
   ],
   "source": [
    "for x in fmaps_pool:\n",
    "    map_stack = np.hstack(x)\n",
    "    print(map_stack.shape)\n",
    "    plt.matshow(map_stack, cmap='viridis')"
   ]
  },
  {
   "cell_type": "markdown",
   "metadata": {},
   "source": [
    "### MNIST #2"
   ]
  },
  {
   "cell_type": "code",
   "execution_count": 31,
   "metadata": {},
   "outputs": [],
   "source": [
    "conv_activations = conv_activation_model.predict(img_tensor_mnist2)\n",
    "first_conv_activation = conv_activations[0]"
   ]
  },
  {
   "cell_type": "code",
   "execution_count": 32,
   "metadata": {},
   "outputs": [
    {
     "data": {
      "text/plain": [
       "<matplotlib.image.AxesImage at 0x7fd40c1cf320>"
      ]
     },
     "execution_count": 32,
     "metadata": {},
     "output_type": "execute_result"
    },
    {
     "data": {
      "image/png": "[encoded data removed]",
      "text/plain": [
       "<Figure size 288x288 with 1 Axes>"
      ]
     },
     "metadata": {
      "needs_background": "light"
     },
     "output_type": "display_data"
    }
   ],
   "source": [
    "plt.matshow(first_conv_activation[0, :, :, 0], cmap='viridis')"
   ]
  },
  {
   "cell_type": "code",
   "execution_count": 33,
   "metadata": {},
   "outputs": [],
   "source": [
    "layer_names = []\n",
    "for layer in model.layers[:4]:\n",
    "    layer_names.append(layer.name)"
   ]
  },
  {
   "cell_type": "code",
   "execution_count": 34,
   "metadata": {},
   "outputs": [
    {
     "name": "stdout",
     "output_type": "stream",
     "text": [
      "name: conv2d\n",
      "activation: (1, 24, 24, 6)\n",
      "feature_maps_shape: (6, 24, 24)\n",
      "name: max_pooling2d\n",
      "activation: (1, 12, 12, 6)\n",
      "feature_maps_shape: (6, 12, 12)\n",
      "name: conv2d_1\n",
      "activation: (1, 8, 8, 16)\n",
      "feature_maps_shape: (16, 8, 8)\n",
      "name: max_pooling2d_1\n",
      "activation: (1, 4, 4, 16)\n",
      "feature_maps_shape: (16, 4, 4)\n"
     ]
    }
   ],
   "source": [
    "fmaps_pool = []\n",
    "for layer_name, layer_activation in zip(layer_names, conv_activations):\n",
    "    print(\"name: {0}\\nactivation: {1}\".format(layer_name, layer_activation.shape))\n",
    "    n_features = layer_activation.shape[-1]\n",
    "    size = layer_activation.shape[1]\n",
    "    for fmaps in layer_activation:\n",
    "        fmapsT = np.transpose(fmaps, (2, 0, 1))\n",
    "        print(\"feature_maps_shape: {}\".format(fmapsT.shape))\n",
    "        fmap_layer = []\n",
    "        for fmapT in fmapsT:\n",
    "            fmap_layer.append(fmapT)\n",
    "        fmaps_pool.append(fmap_layer)"
   ]
  },
  {
   "cell_type": "code",
   "execution_count": 35,
   "metadata": {},
   "outputs": [
    {
     "name": "stdout",
     "output_type": "stream",
     "text": [
      "(24, 144)\n",
      "(12, 72)\n",
      "(8, 128)\n",
      "(4, 64)\n"
     ]
    },
    {
     "data": {
      "image/png": "[encoded data removed]",
      "text/plain": [
       "<Figure size 1152x192 with 1 Axes>"
      ]
     },
     "metadata": {
      "needs_background": "light"
     },
     "output_type": "display_data"
    },
    {
     "data": {
      "image/png": "[encoded data removed]",
      "text/plain": [
       "<Figure size 1152x192 with 1 Axes>"
      ]
     },
     "metadata": {
      "needs_background": "light"
     },
     "output_type": "display_data"
    },
    {
     "data": {
      "image/png": "[encoded data removed]",
      "text/plain": [
       "<Figure size 1152x144 with 1 Axes>"
      ]
     },
     "metadata": {
      "needs_background": "light"
     },
     "output_type": "display_data"
    },
    {
     "data": {
      "image/png": "[encoded data removed]",
      "text/plain": [
       "<Figure size 1152x144 with 1 Axes>"
      ]
     },
     "metadata": {
      "needs_background": "light"
     },
     "output_type": "display_data"
    }
   ],
   "source": [
    "for x in fmaps_pool:\n",
    "    map_stack = np.hstack(x)\n",
    "    print(map_stack.shape)\n",
    "    plt.matshow(map_stack, cmap='viridis')"
   ]
  },
  {
   "cell_type": "markdown",
   "metadata": {},
   "source": [
    "### Neural Network Activation response to given data"
   ]
  },
  {
   "cell_type": "markdown",
   "metadata": {},
   "source": [
    "### MNIST #1"
   ]
  },
  {
   "cell_type": "code",
   "execution_count": 36,
   "metadata": {},
   "outputs": [],
   "source": [
    "nn_activations = nn_activation_model.predict(img_tensor_mnist1)"
   ]
  },
  {
   "cell_type": "code",
   "execution_count": 37,
   "metadata": {},
   "outputs": [],
   "source": [
    "layer_names = []\n",
    "for layer in model.layers[5:]:\n",
    "    layer_names.append(layer.name)"
   ]
  },
  {
   "cell_type": "code",
   "execution_count": 38,
   "metadata": {},
   "outputs": [
    {
     "name": "stdout",
     "output_type": "stream",
     "text": [
      "name: dense\n",
      "activation: (1, 120)\n",
      "name: dense_1\n",
      "activation: (1, 84)\n",
      "name: dense_2\n",
      "activation: (1, 10)\n"
     ]
    }
   ],
   "source": [
    "fmaps_pool = []\n",
    "for layer_name, layer_activation in zip(layer_names, nn_activations):\n",
    "    print(\"name: {0}\\nactivation: {1}\".format(layer_name, layer_activation.shape))\n",
    "    n_features = layer_activation.shape[-1]\n",
    "    size = layer_activation.shape[1]\n",
    "    for fmaps in layer_activation:\n",
    "#         fmapsT = np.transpose(fmaps, (2, 0, 1))\n",
    "#         print(\"feature_maps_shape: {}\".format(fmapsT.shape))\n",
    "        fmap_layer = []\n",
    "        for fmap in fmaps:\n",
    "            fmap_layer.append(fmap)\n",
    "        fmaps_pool.append(fmap_layer)"
   ]
  },
  {
   "cell_type": "code",
   "execution_count": 39,
   "metadata": {},
   "outputs": [
    {
     "data": {
      "image/png": "[encoded data removed]",
      "text/plain": [
       "<Figure size 1152x144 with 1 Axes>"
      ]
     },
     "metadata": {
      "needs_background": "light"
     },
     "output_type": "display_data"
    },
    {
     "data": {
      "image/png": "[encoded data removed]",
      "text/plain": [
       "<Figure size 1152x144 with 1 Axes>"
      ]
     },
     "metadata": {
      "needs_background": "light"
     },
     "output_type": "display_data"
    },
    {
     "data": {
      "image/png": "[encoded data removed]",
      "text/plain": [
       "<Figure size 1152x144 with 1 Axes>"
      ]
     },
     "metadata": {
      "needs_background": "light"
     },
     "output_type": "display_data"
    }
   ],
   "source": [
    "for x in fmaps_pool:\n",
    "    map_stack = [np.hstack(x)]\n",
    "#     print(map_stack.shape)\n",
    "    plt.matshow(map_stack, cmap='viridis')"
   ]
  },
  {
   "cell_type": "markdown",
   "metadata": {},
   "source": [
    "### MNIST #2"
   ]
  },
  {
   "cell_type": "code",
   "execution_count": 40,
   "metadata": {},
   "outputs": [],
   "source": [
    "nn_activations = nn_activation_model.predict(img_tensor_mnist2)"
   ]
  },
  {
   "cell_type": "code",
   "execution_count": 41,
   "metadata": {},
   "outputs": [],
   "source": [
    "layer_names = []\n",
    "for layer in model.layers[5:]:\n",
    "    layer_names.append(layer.name)"
   ]
  },
  {
   "cell_type": "code",
   "execution_count": 42,
   "metadata": {},
   "outputs": [
    {
     "name": "stdout",
     "output_type": "stream",
     "text": [
      "name: dense\n",
      "activation: (1, 120)\n",
      "name: dense_1\n",
      "activation: (1, 84)\n",
      "name: dense_2\n",
      "activation: (1, 10)\n"
     ]
    }
   ],
   "source": [
    "fmaps_pool = []\n",
    "for layer_name, layer_activation in zip(layer_names, nn_activations):\n",
    "    print(\"name: {0}\\nactivation: {1}\".format(layer_name, layer_activation.shape))\n",
    "    n_features = layer_activation.shape[-1]\n",
    "    size = layer_activation.shape[1]\n",
    "    for fmaps in layer_activation:\n",
    "#         fmapsT = np.transpose(fmaps, (2, 0, 1))\n",
    "#         print(\"feature_maps_shape: {}\".format(fmapsT.shape))\n",
    "        fmap_layer = []\n",
    "        for fmap in fmaps:\n",
    "            fmap_layer.append(fmap)\n",
    "        fmaps_pool.append(fmap_layer)\n",
    "        "
   ]
  },
  {
   "cell_type": "code",
   "execution_count": 43,
   "metadata": {},
   "outputs": [
    {
     "data": {
      "image/png": "[encoded data removed]",
      "text/plain": [
       "<Figure size 1152x144 with 1 Axes>"
      ]
     },
     "metadata": {
      "needs_background": "light"
     },
     "output_type": "display_data"
    },
    {
     "data": {
      "image/png": "[encoded data removed]",
      "text/plain": [
       "<Figure size 1152x144 with 1 Axes>"
      ]
     },
     "metadata": {
      "needs_background": "light"
     },
     "output_type": "display_data"
    },
    {
     "data": {
      "image/png": "[encoded data removed]",
      "text/plain": [
       "<Figure size 1152x144 with 1 Axes>"
      ]
     },
     "metadata": {
      "needs_background": "light"
     },
     "output_type": "display_data"
    }
   ],
   "source": [
    "for x in fmaps_pool:\n",
    "    map_stack = [np.hstack(x)]\n",
    "#     print(map_stack.shape)\n",
    "    plt.matshow(map_stack, cmap='viridis')"
   ]
  },
  {
   "cell_type": "markdown",
   "metadata": {},
   "source": [
    "## Prediction"
   ]
  },
  {
   "cell_type": "markdown",
   "metadata": {},
   "source": [
    "### MNIST #1"
   ]
  },
  {
   "cell_type": "code",
   "execution_count": 44,
   "metadata": {},
   "outputs": [],
   "source": [
    "prediction = model.predict(img_tensor_mnist1)"
   ]
  },
  {
   "cell_type": "code",
   "execution_count": 45,
   "metadata": {},
   "outputs": [
    {
     "data": {
      "text/plain": [
       "array([[6.7009104e-10, 1.5794185e-10, 1.1885527e-09, 9.8410481e-11,\n",
       "        8.2598883e-04, 7.2258501e-08, 1.9366755e-11, 2.3956549e-05,\n",
       "        8.8402693e-08, 9.9914980e-01]], dtype=float32)"
      ]
     },
     "execution_count": 45,
     "metadata": {},
     "output_type": "execute_result"
    }
   ],
   "source": [
    "prediction"
   ]
  },
  {
   "cell_type": "code",
   "execution_count": 46,
   "metadata": {},
   "outputs": [
    {
     "data": {
      "text/plain": [
       "9"
      ]
     },
     "execution_count": 46,
     "metadata": {},
     "output_type": "execute_result"
    }
   ],
   "source": [
    "np.argmax(prediction)"
   ]
  },
  {
   "cell_type": "markdown",
   "metadata": {},
   "source": [
    "### MNIST #2"
   ]
  },
  {
   "cell_type": "code",
   "execution_count": 47,
   "metadata": {},
   "outputs": [],
   "source": [
    "prediction = model.predict(img_tensor_mnist2)"
   ]
  },
  {
   "cell_type": "code",
   "execution_count": 48,
   "metadata": {},
   "outputs": [
    {
     "data": {
      "text/plain": [
       "array([[1.3985687e-11, 1.0424612e-14, 2.0048257e-14, 5.9361988e-11,\n",
       "        2.7963398e-10, 3.8699512e-13, 8.0670279e-20, 3.2668029e-10,\n",
       "        7.0230918e-11, 1.0000000e+00]], dtype=float32)"
      ]
     },
     "execution_count": 48,
     "metadata": {},
     "output_type": "execute_result"
    }
   ],
   "source": [
    "prediction"
   ]
  },
  {
   "cell_type": "code",
   "execution_count": 49,
   "metadata": {},
   "outputs": [
    {
     "data": {
      "text/plain": [
       "9"
      ]
     },
     "execution_count": 49,
     "metadata": {},
     "output_type": "execute_result"
    }
   ],
   "source": [
    "np.argmax(prediction)"
   ]
  }
 ],
 "metadata": {
  "kernelspec": {
   "display_name": "Python 3",
   "language": "python",
   "name": "python3"
  },
  "language_info": {
   "codemirror_mode": {
    "name": "ipython",
    "version": 3
   },
   "file_extension": ".py",
   "mimetype": "text/x-python",
   "name": "python",
   "nbconvert_exporter": "python",
   "pygments_lexer": "ipython3",
   "version": "3.6.8"
  }
 },
 "nbformat": 4,
 "nbformat_minor": 2
}
