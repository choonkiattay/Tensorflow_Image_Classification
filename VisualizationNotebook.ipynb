{
 "cells": [
  {
   "cell_type": "markdown",
   "metadata": {},
   "source": [
    "# Experiment 1"
   ]
  },
  {
   "cell_type": "code",
   "execution_count": 1,
   "metadata": {},
   "outputs": [],
   "source": [
    "import os\n",
    "import numpy as np\n",
    "import tensorflow as tf\n",
    "from tensorflow import keras as tfk\n",
    "from matplotlib import pyplot as plt"
   ]
  },
  {
   "cell_type": "markdown",
   "metadata": {},
   "source": [
    "## CNN Training"
   ]
  },
  {
   "cell_type": "code",
   "execution_count": 2,
   "metadata": {},
   "outputs": [],
   "source": [
    "def dataset_prep_mnist():\n",
    "    mnist = tf.keras.datasets.mnist\n",
    "\n",
    "    (data_train, label_train), (data_test, label_test) = mnist.load_data()\n",
    "    # # # Normalize 0 to 255 value matrix to 0 to 1 value matrix\n",
    "    # data_train, data_test = data_train/255.0, data_test/255.0\n",
    "    train_data = data_train.reshape(data_train.shape[0], 28, 28, 1)\n",
    "    train_label = np.asarray(label_train, dtype=np.int32)\n",
    "    test_data = data_test.reshape(data_test.shape[0], 28, 28, 1)\n",
    "    test_label = np.asarray(label_test, dtype=np.int32)\n",
    "\n",
    "    return train_data, train_label, test_data, test_label"
   ]
  },
  {
   "cell_type": "code",
   "execution_count": 3,
   "metadata": {},
   "outputs": [],
   "source": [
    "# Fashion MNIST classes\n",
    "fmnist_class_names = ['T-shirt/top', 'Trouser', 'Pullover', 'Dress', 'Coat',\n",
    "               'Sandal', 'Shirt', 'Sneaker', 'Bag', 'Ankle boot']\n",
    "\n",
    "def dataset_prep_fmnist():\n",
    "    fashion_mnist = tfk.datasets.fashion_mnist\n",
    "\n",
    "    (train_data, train_label), (test_data, test_label) = fashion_mnist.load_data()\n",
    "    \n",
    "#     class_names = ['T-shirt/top', 'Trouser', 'Pullover', 'Dress', 'Coat',\n",
    "#                'Sandal', 'Shirt', 'Sneaker', 'Bag', 'Ankle boot']\n",
    "    \n",
    "    return train_data, train_label, test_data, test_label"
   ]
  },
  {
   "cell_type": "code",
   "execution_count": 4,
   "metadata": {},
   "outputs": [],
   "source": [
    "def lenet5():\n",
    "    model = tfk.models.Sequential([\n",
    "        tfk.layers.Conv2D(filters=6, kernel_size=(5, 5), activation=tf.nn.relu, input_shape=(28, 28, 1)),\n",
    "        tfk.layers.MaxPool2D(pool_size=(2, 2), strides=2),\n",
    "        tfk.layers.Conv2D(filters=16, kernel_size=(5, 5), activation=tf.nn.relu),\n",
    "        tfk.layers.MaxPool2D(pool_size=(2, 2), strides=2),\n",
    "        tfk.layers.Flatten(),\n",
    "        tfk.layers.Dense(120, activation=tf.nn.relu),\n",
    "        tfk.layers.Dense(84, activation=tf.nn.relu),\n",
    "        tfk.layers.Dense(10, activation=tf.nn.softmax),\n",
    "    ])\n",
    "\n",
    "#     model.compile(optimizer=tfk.optimizers.SGD(lr=0.001, decay=0.000001, momentum=0.5), loss=tfk.losses.sparse_categorical_crossentropy,\n",
    "#                   metrics=[tfk.metrics.sparse_categorical_accuracy])\n",
    "    \n",
    "    model.compile(optimizer=tfk.optimizers.Adadelta(), loss=tfk.losses.sparse_categorical_crossentropy,\n",
    "                  metrics=[tfk.metrics.sparse_categorical_accuracy])\n",
    "\n",
    "    return model"
   ]
  },
  {
   "cell_type": "code",
   "execution_count": 5,
   "metadata": {},
   "outputs": [],
   "source": [
    "# Create checkpoint callback\n",
    "checkpoint_path = \"/home/Tensorflow_Image_Classification/training_1/lenet5.ckpt\"\n",
    "checkpoint_dir = os.path.dirname(checkpoint_path)\n",
    "cp_callback = tf.keras.callbacks.ModelCheckpoint(filepath=checkpoint_path, save_weights_only=True, verbose=1,\n",
    "                                                 save_best_only=True)"
   ]
  },
  {
   "cell_type": "code",
   "execution_count": 6,
   "metadata": {},
   "outputs": [
    {
     "name": "stdout",
     "output_type": "stream",
     "text": [
      "WARNING:tensorflow:From /usr/local/lib/python3.6/dist-packages/tensorflow/python/ops/resource_variable_ops.py:435: colocate_with (from tensorflow.python.framework.ops) is deprecated and will be removed in a future version.\n",
      "Instructions for updating:\n",
      "Colocations handled automatically by placer.\n",
      "_________________________________________________________________\n",
      "Layer (type)                 Output Shape              Param #   \n",
      "=================================================================\n",
      "conv2d (Conv2D)              (None, 24, 24, 6)         156       \n",
      "_________________________________________________________________\n",
      "max_pooling2d (MaxPooling2D) (None, 12, 12, 6)         0         \n",
      "_________________________________________________________________\n",
      "conv2d_1 (Conv2D)            (None, 8, 8, 16)          2416      \n",
      "_________________________________________________________________\n",
      "max_pooling2d_1 (MaxPooling2 (None, 4, 4, 16)          0         \n",
      "_________________________________________________________________\n",
      "flatten (Flatten)            (None, 256)               0         \n",
      "_________________________________________________________________\n",
      "dense (Dense)                (None, 120)               30840     \n",
      "_________________________________________________________________\n",
      "dense_1 (Dense)              (None, 84)                10164     \n",
      "_________________________________________________________________\n",
      "dense_2 (Dense)              (None, 10)                850       \n",
      "=================================================================\n",
      "Total params: 44,426\n",
      "Trainable params: 44,426\n",
      "Non-trainable params: 0\n",
      "_________________________________________________________________\n"
     ]
    }
   ],
   "source": [
    "train_data, train_label, test_data, test_label = dataset_prep_mnist()\n",
    "train_fdata, train_flabel, test_fdata, test_flabel = dataset_prep_fmnist()\n",
    "model = lenet5()\n",
    "model.summary()"
   ]
  },
  {
   "cell_type": "code",
   "execution_count": 7,
   "metadata": {},
   "outputs": [
    {
     "name": "stdout",
     "output_type": "stream",
     "text": [
      "Train on 60000 samples, validate on 10000 samples\n",
      "Epoch 1/8\n",
      "59392/60000 [============================>.] - ETA: 0s - loss: 7.1557 - sparse_categorical_accuracy: 0.5174\n",
      "Epoch 00001: val_loss improved from inf to 0.17758, saving model to /home/Tensorflow_Image_Classification/training_1/lenet5.ckpt\n",
      "WARNING:tensorflow:This model was compiled with a Keras optimizer (<tensorflow.python.keras.optimizers.Adadelta object at 0x7f9ed443f0f0>) but is being saved in TensorFlow format with `save_weights`. The model's weights will be saved, but unlike with TensorFlow optimizers in the TensorFlow format the optimizer's state will not be saved.\n",
      "\n",
      "Consider using a TensorFlow optimizer from `tf.train`.\n",
      "WARNING:tensorflow:From /usr/local/lib/python3.6/dist-packages/tensorflow/python/keras/engine/network.py:1436: update_checkpoint_state (from tensorflow.python.training.checkpoint_management) is deprecated and will be removed in a future version.\n",
      "Instructions for updating:\n",
      "Use tf.train.CheckpointManager to manage checkpoints rather than manually editing the Checkpoint proto.\n",
      "60000/60000 [==============================] - 3s 50us/sample - loss: 7.0847 - sparse_categorical_accuracy: 0.5219 - val_loss: 0.1776 - val_sparse_categorical_accuracy: 0.9475\n",
      "Epoch 2/8\n",
      "58688/60000 [============================>.] - ETA: 0s - loss: 0.1201 - sparse_categorical_accuracy: 0.9651\n",
      "Epoch 00002: val_loss improved from 0.17758 to 0.09174, saving model to /home/Tensorflow_Image_Classification/training_1/lenet5.ckpt\n",
      "WARNING:tensorflow:This model was compiled with a Keras optimizer (<tensorflow.python.keras.optimizers.Adadelta object at 0x7f9ed443f0f0>) but is being saved in TensorFlow format with `save_weights`. The model's weights will be saved, but unlike with TensorFlow optimizers in the TensorFlow format the optimizer's state will not be saved.\n",
      "\n",
      "Consider using a TensorFlow optimizer from `tf.train`.\n",
      "60000/60000 [==============================] - 2s 37us/sample - loss: 0.1197 - sparse_categorical_accuracy: 0.9651 - val_loss: 0.0917 - val_sparse_categorical_accuracy: 0.9712\n",
      "Epoch 3/8\n",
      "59072/60000 [============================>.] - ETA: 0s - loss: 0.0699 - sparse_categorical_accuracy: 0.9793\n",
      "Epoch 00003: val_loss improved from 0.09174 to 0.06846, saving model to /home/Tensorflow_Image_Classification/training_1/lenet5.ckpt\n",
      "WARNING:tensorflow:This model was compiled with a Keras optimizer (<tensorflow.python.keras.optimizers.Adadelta object at 0x7f9ed443f0f0>) but is being saved in TensorFlow format with `save_weights`. The model's weights will be saved, but unlike with TensorFlow optimizers in the TensorFlow format the optimizer's state will not be saved.\n",
      "\n",
      "Consider using a TensorFlow optimizer from `tf.train`.\n",
      "60000/60000 [==============================] - 2s 38us/sample - loss: 0.0698 - sparse_categorical_accuracy: 0.9793 - val_loss: 0.0685 - val_sparse_categorical_accuracy: 0.9796\n",
      "Epoch 4/8\n",
      "59072/60000 [============================>.] - ETA: 0s - loss: 0.0519 - sparse_categorical_accuracy: 0.9845\n",
      "Epoch 00004: val_loss did not improve from 0.06846\n",
      "60000/60000 [==============================] - 2s 37us/sample - loss: 0.0517 - sparse_categorical_accuracy: 0.9846 - val_loss: 0.0693 - val_sparse_categorical_accuracy: 0.9807\n",
      "Epoch 5/8\n",
      "59584/60000 [============================>.] - ETA: 0s - loss: 0.0394 - sparse_categorical_accuracy: 0.9878\n",
      "Epoch 00005: val_loss improved from 0.06846 to 0.06068, saving model to /home/Tensorflow_Image_Classification/training_1/lenet5.ckpt\n",
      "WARNING:tensorflow:This model was compiled with a Keras optimizer (<tensorflow.python.keras.optimizers.Adadelta object at 0x7f9ed443f0f0>) but is being saved in TensorFlow format with `save_weights`. The model's weights will be saved, but unlike with TensorFlow optimizers in the TensorFlow format the optimizer's state will not be saved.\n",
      "\n",
      "Consider using a TensorFlow optimizer from `tf.train`.\n",
      "60000/60000 [==============================] - 2s 36us/sample - loss: 0.0393 - sparse_categorical_accuracy: 0.9878 - val_loss: 0.0607 - val_sparse_categorical_accuracy: 0.9826\n",
      "Epoch 6/8\n",
      "58688/60000 [============================>.] - ETA: 0s - loss: 0.0334 - sparse_categorical_accuracy: 0.9895\n",
      "Epoch 00006: val_loss improved from 0.06068 to 0.05454, saving model to /home/Tensorflow_Image_Classification/training_1/lenet5.ckpt\n",
      "WARNING:tensorflow:This model was compiled with a Keras optimizer (<tensorflow.python.keras.optimizers.Adadelta object at 0x7f9ed443f0f0>) but is being saved in TensorFlow format with `save_weights`. The model's weights will be saved, but unlike with TensorFlow optimizers in the TensorFlow format the optimizer's state will not be saved.\n",
      "\n",
      "Consider using a TensorFlow optimizer from `tf.train`.\n",
      "60000/60000 [==============================] - 2s 36us/sample - loss: 0.0333 - sparse_categorical_accuracy: 0.9895 - val_loss: 0.0545 - val_sparse_categorical_accuracy: 0.9860\n",
      "Epoch 7/8\n",
      "59840/60000 [============================>.] - ETA: 0s - loss: 0.0269 - sparse_categorical_accuracy: 0.9919\n",
      "Epoch 00007: val_loss improved from 0.05454 to 0.05246, saving model to /home/Tensorflow_Image_Classification/training_1/lenet5.ckpt\n",
      "WARNING:tensorflow:This model was compiled with a Keras optimizer (<tensorflow.python.keras.optimizers.Adadelta object at 0x7f9ed443f0f0>) but is being saved in TensorFlow format with `save_weights`. The model's weights will be saved, but unlike with TensorFlow optimizers in the TensorFlow format the optimizer's state will not be saved.\n",
      "\n",
      "Consider using a TensorFlow optimizer from `tf.train`.\n",
      "60000/60000 [==============================] - 2s 36us/sample - loss: 0.0270 - sparse_categorical_accuracy: 0.9919 - val_loss: 0.0525 - val_sparse_categorical_accuracy: 0.9854\n",
      "Epoch 8/8\n",
      "58880/60000 [============================>.] - ETA: 0s - loss: 0.0214 - sparse_categorical_accuracy: 0.9936\n",
      "Epoch 00008: val_loss did not improve from 0.05246\n",
      "60000/60000 [==============================] - 2s 37us/sample - loss: 0.0217 - sparse_categorical_accuracy: 0.9936 - val_loss: 0.0603 - val_sparse_categorical_accuracy: 0.9843\n"
     ]
    },
    {
     "data": {
      "text/plain": [
       "<tensorflow.python.keras.callbacks.History at 0x7f9ecd2407b8>"
      ]
     },
     "execution_count": 7,
     "metadata": {},
     "output_type": "execute_result"
    }
   ],
   "source": [
    "model.fit(train_data, train_label, epochs=8, batch_size=64, validation_data=(test_data, test_label), callbacks=[cp_callback])"
   ]
  },
  {
   "cell_type": "code",
   "execution_count": 8,
   "metadata": {},
   "outputs": [
    {
     "name": "stdout",
     "output_type": "stream",
     "text": [
      "10000/10000 [==============================] - 0s 25us/sample - loss: 0.0603 - sparse_categorical_accuracy: 0.9843\n"
     ]
    },
    {
     "data": {
      "text/plain": [
       "[0.06032606345627137, 0.9843]"
      ]
     },
     "execution_count": 8,
     "metadata": {},
     "output_type": "execute_result"
    }
   ],
   "source": [
    "model.evaluate(test_data, test_label)"
   ]
  },
  {
   "cell_type": "markdown",
   "metadata": {},
   "source": [
    "## Layers study"
   ]
  },
  {
   "cell_type": "code",
   "execution_count": 9,
   "metadata": {},
   "outputs": [],
   "source": [
    "# Extract Top 4 layers\n",
    "layer_outputs = [layer.output for layer in model.layers[:4]]\n",
    "activation_model = tfk.models.Model(inputs=model.input, outputs=layer_outputs)"
   ]
  },
  {
   "cell_type": "markdown",
   "metadata": {},
   "source": [
    "A hack to see kernel value"
   ]
  },
  {
   "cell_type": "markdown",
   "metadata": {},
   "source": [
    "### Random Matrix"
   ]
  },
  {
   "cell_type": "code",
   "execution_count": null,
   "metadata": {},
   "outputs": [],
   "source": [
    "from numpy.random import rand, randint\n",
    "from numpy import array, argsort"
   ]
  },
  {
   "cell_type": "code",
   "execution_count": null,
   "metadata": {},
   "outputs": [],
   "source": [
    "def array_fix(num):\n",
    "    a = rand(28,28)\n",
    "    b=[]\n",
    "    for i in range(len(a)):\n",
    "        n=num #max number of 1's\n",
    "#         n=randint(0,(n+1)) \n",
    "        b.append((argsort(a[i])>=(len(a[i])-n))*0)\n",
    "    b=array([b])\n",
    "    return b"
   ]
  },
  {
   "cell_type": "code",
   "execution_count": null,
   "metadata": {},
   "outputs": [],
   "source": [
    "def array_rand(num):\n",
    "    a = rand(28,28)\n",
    "    b=[]\n",
    "    for i in range(len(a)):\n",
    "        n=num #max number of 1's\n",
    "        n=randint(0,(n+1)) \n",
    "        b.append((argsort(a[i])>=(len(a[i])-n))*255)\n",
    "    b=array([b])\n",
    "    return b"
   ]
  },
  {
   "cell_type": "code",
   "execution_count": null,
   "metadata": {},
   "outputs": [],
   "source": [
    "target_img = array_fix(28)"
   ]
  },
  {
   "cell_type": "code",
   "execution_count": null,
   "metadata": {},
   "outputs": [],
   "source": [
    "target_img.shape"
   ]
  },
  {
   "cell_type": "code",
   "execution_count": null,
   "metadata": {},
   "outputs": [],
   "source": [
    "test_data_tp = np.transpose(target_img, (2,1,0))"
   ]
  },
  {
   "cell_type": "code",
   "execution_count": null,
   "metadata": {},
   "outputs": [],
   "source": [
    "test_img = np.hstack(test_data_tp)"
   ]
  },
  {
   "cell_type": "code",
   "execution_count": null,
   "metadata": {},
   "outputs": [],
   "source": [
    "test_img.shape"
   ]
  },
  {
   "cell_type": "code",
   "execution_count": null,
   "metadata": {},
   "outputs": [],
   "source": [
    "plt.matshow(test_img)"
   ]
  },
  {
   "cell_type": "code",
   "execution_count": null,
   "metadata": {},
   "outputs": [],
   "source": [
    "img_tensor = np.expand_dims(test_data_tp, axis=0)"
   ]
  },
  {
   "cell_type": "code",
   "execution_count": null,
   "metadata": {},
   "outputs": [],
   "source": [
    "img_tensor.shape"
   ]
  },
  {
   "cell_type": "markdown",
   "metadata": {},
   "source": [
    "### MNIST Testset"
   ]
  },
  {
   "cell_type": "code",
   "execution_count": 10,
   "metadata": {},
   "outputs": [],
   "source": [
    "target_img_mnist = test_data[268]"
   ]
  },
  {
   "cell_type": "code",
   "execution_count": 11,
   "metadata": {},
   "outputs": [
    {
     "data": {
      "text/plain": [
       "(28, 28, 1)"
      ]
     },
     "execution_count": 11,
     "metadata": {},
     "output_type": "execute_result"
    }
   ],
   "source": [
    "target_img_mnist.shape"
   ]
  },
  {
   "cell_type": "code",
   "execution_count": 12,
   "metadata": {},
   "outputs": [],
   "source": [
    "test_data_tp_mnist = np.transpose(target_img_mnist, (1,0,2))"
   ]
  },
  {
   "cell_type": "code",
   "execution_count": 13,
   "metadata": {},
   "outputs": [],
   "source": [
    "test_img_mnist = np.hstack(test_data_tp_mnist)"
   ]
  },
  {
   "cell_type": "code",
   "execution_count": 14,
   "metadata": {},
   "outputs": [
    {
     "data": {
      "text/plain": [
       "(28, 28)"
      ]
     },
     "execution_count": 14,
     "metadata": {},
     "output_type": "execute_result"
    }
   ],
   "source": [
    "test_img_mnist.shape"
   ]
  },
  {
   "cell_type": "code",
   "execution_count": 15,
   "metadata": {},
   "outputs": [
    {
     "data": {
      "text/plain": [
       "<matplotlib.image.AxesImage at 0x7f9ecc115f28>"
      ]
     },
     "execution_count": 15,
     "metadata": {},
     "output_type": "execute_result"
    },
    {
     "data": {
      "image/png": "[encoded data removed]",
      "text/plain": [
       "<Figure size 288x288 with 1 Axes>"
      ]
     },
     "metadata": {
      "needs_background": "light"
     },
     "output_type": "display_data"
    }
   ],
   "source": [
    "plt.matshow(test_img_mnist)"
   ]
  },
  {
   "cell_type": "code",
   "execution_count": 16,
   "metadata": {},
   "outputs": [],
   "source": [
    "img_tensor_mnist = np.expand_dims(target_img_mnist, axis=0)"
   ]
  },
  {
   "cell_type": "code",
   "execution_count": 17,
   "metadata": {},
   "outputs": [
    {
     "data": {
      "text/plain": [
       "(1, 28, 28, 1)"
      ]
     },
     "execution_count": 17,
     "metadata": {},
     "output_type": "execute_result"
    }
   ],
   "source": [
    "img_tensor_mnist.shape"
   ]
  },
  {
   "cell_type": "markdown",
   "metadata": {},
   "source": [
    "### Fashion MNIST Testset"
   ]
  },
  {
   "cell_type": "code",
   "execution_count": 18,
   "metadata": {},
   "outputs": [],
   "source": [
    "target_img_fmnist = test_fdata[280]"
   ]
  },
  {
   "cell_type": "code",
   "execution_count": 19,
   "metadata": {},
   "outputs": [
    {
     "data": {
      "text/plain": [
       "'T-shirt/top'"
      ]
     },
     "execution_count": 19,
     "metadata": {},
     "output_type": "execute_result"
    }
   ],
   "source": [
    "fmnist_class_names[test_flabel[280]]"
   ]
  },
  {
   "cell_type": "code",
   "execution_count": 20,
   "metadata": {},
   "outputs": [],
   "source": [
    "target_img_fmnist = np.expand_dims(target_img_fmnist, axis=0)"
   ]
  },
  {
   "cell_type": "code",
   "execution_count": 21,
   "metadata": {},
   "outputs": [
    {
     "data": {
      "text/plain": [
       "(1, 28, 28)"
      ]
     },
     "execution_count": 21,
     "metadata": {},
     "output_type": "execute_result"
    }
   ],
   "source": [
    "target_img_fmnist.shape"
   ]
  },
  {
   "cell_type": "code",
   "execution_count": 22,
   "metadata": {},
   "outputs": [],
   "source": [
    "test_data_tp_fmnist = np.transpose(target_img_fmnist, (1,2,0))"
   ]
  },
  {
   "cell_type": "code",
   "execution_count": 23,
   "metadata": {},
   "outputs": [],
   "source": [
    "#test_img_fmnist = np.hstack(target_img_fmnist)"
   ]
  },
  {
   "cell_type": "code",
   "execution_count": 24,
   "metadata": {},
   "outputs": [],
   "source": [
    "test_img_fmnist = np.hstack(test_data_tp_fmnist)"
   ]
  },
  {
   "cell_type": "code",
   "execution_count": 25,
   "metadata": {},
   "outputs": [
    {
     "data": {
      "text/plain": [
       "(28, 28)"
      ]
     },
     "execution_count": 25,
     "metadata": {},
     "output_type": "execute_result"
    }
   ],
   "source": [
    "test_img_fmnist.shape"
   ]
  },
  {
   "cell_type": "code",
   "execution_count": 26,
   "metadata": {},
   "outputs": [
    {
     "data": {
      "text/plain": [
       "<matplotlib.image.AxesImage at 0x7f9ecc0330b8>"
      ]
     },
     "execution_count": 26,
     "metadata": {},
     "output_type": "execute_result"
    },
    {
     "data": {
      "image/png": "[encoded data removed]",
      "text/plain": [
       "<Figure size 288x288 with 1 Axes>"
      ]
     },
     "metadata": {
      "needs_background": "light"
     },
     "output_type": "display_data"
    }
   ],
   "source": [
    "plt.matshow(test_img_fmnist)"
   ]
  },
  {
   "cell_type": "code",
   "execution_count": 27,
   "metadata": {},
   "outputs": [],
   "source": [
    "img_tensor_fmnist= np.expand_dims(test_data_tp_fmnist, axis=0)"
   ]
  },
  {
   "cell_type": "code",
   "execution_count": 28,
   "metadata": {},
   "outputs": [
    {
     "data": {
      "text/plain": [
       "(1, 28, 28, 1)"
      ]
     },
     "execution_count": 28,
     "metadata": {},
     "output_type": "execute_result"
    }
   ],
   "source": [
    "img_tensor_fmnist.shape"
   ]
  },
  {
   "cell_type": "markdown",
   "metadata": {},
   "source": [
    "### Activation response to given data"
   ]
  },
  {
   "cell_type": "markdown",
   "metadata": {},
   "source": [
    "### MNIST"
   ]
  },
  {
   "cell_type": "code",
   "execution_count": 29,
   "metadata": {},
   "outputs": [],
   "source": [
    "activations = activation_model.predict(img_tensor_mnist)\n",
    "first_layer_activation = activations[0]"
   ]
  },
  {
   "cell_type": "code",
   "execution_count": 30,
   "metadata": {},
   "outputs": [
    {
     "data": {
      "text/plain": [
       "<matplotlib.image.AxesImage at 0x7f9ec47de828>"
      ]
     },
     "execution_count": 30,
     "metadata": {},
     "output_type": "execute_result"
    },
    {
     "data": {
      "image/png": "[encoded data removed]",
      "text/plain": [
       "<Figure size 288x288 with 1 Axes>"
      ]
     },
     "metadata": {
      "needs_background": "light"
     },
     "output_type": "display_data"
    }
   ],
   "source": [
    "plt.matshow(first_layer_activation[0, :, :, 0], cmap='viridis')"
   ]
  },
  {
   "cell_type": "code",
   "execution_count": 31,
   "metadata": {},
   "outputs": [],
   "source": [
    "layer_names = []\n",
    "for layer in model.layers[:4]:\n",
    "    layer_names.append(layer.name)"
   ]
  },
  {
   "cell_type": "code",
   "execution_count": 32,
   "metadata": {
    "scrolled": false
   },
   "outputs": [
    {
     "name": "stdout",
     "output_type": "stream",
     "text": [
      "name: conv2d\n",
      "activation: (1, 24, 24, 6)\n",
      "feature_maps_shape: (6, 24, 24)\n",
      "name: max_pooling2d\n",
      "activation: (1, 12, 12, 6)\n",
      "feature_maps_shape: (6, 12, 12)\n",
      "name: conv2d_1\n",
      "activation: (1, 8, 8, 16)\n",
      "feature_maps_shape: (16, 8, 8)\n",
      "name: max_pooling2d_1\n",
      "activation: (1, 4, 4, 16)\n",
      "feature_maps_shape: (16, 4, 4)\n"
     ]
    }
   ],
   "source": [
    "fmaps_pool = []\n",
    "for layer_name, layer_activation in zip(layer_names, activations):\n",
    "    print(\"name: {0}\\nactivation: {1}\".format(layer_name, layer_activation.shape))\n",
    "    n_features = layer_activation.shape[-1]\n",
    "    size = layer_activation.shape[1]\n",
    "    for fmaps in layer_activation:\n",
    "        fmapsT = np.transpose(fmaps, (2, 0, 1))\n",
    "        print(\"feature_maps_shape: {}\".format(fmapsT.shape))\n",
    "        fmap_layer = []\n",
    "        for fmapT in fmapsT:\n",
    "            fmap_layer.append(fmapT)\n",
    "        fmaps_pool.append(fmap_layer)"
   ]
  },
  {
   "cell_type": "code",
   "execution_count": 33,
   "metadata": {
    "scrolled": false
   },
   "outputs": [
    {
     "name": "stdout",
     "output_type": "stream",
     "text": [
      "(24, 144)\n",
      "(12, 72)\n",
      "(8, 128)\n",
      "(4, 64)\n"
     ]
    },
    {
     "data": {
      "image/png": "[encoded data removed]",
      "text/plain": [
       "<Figure size 1152x192 with 1 Axes>"
      ]
     },
     "metadata": {
      "needs_background": "light"
     },
     "output_type": "display_data"
    },
    {
     "data": {
      "image/png": "[encoded data removed]",
      "text/plain": [
       "<Figure size 1152x192 with 1 Axes>"
      ]
     },
     "metadata": {
      "needs_background": "light"
     },
     "output_type": "display_data"
    },
    {
     "data": {
      "image/png": "[encoded data removed]",
      "text/plain": [
       "<Figure size 1152x144 with 1 Axes>"
      ]
     },
     "metadata": {
      "needs_background": "light"
     },
     "output_type": "display_data"
    },
    {
     "data": {
      "image/png": "[encoded data removed]",
      "text/plain": [
       "<Figure size 1152x144 with 1 Axes>"
      ]
     },
     "metadata": {
      "needs_background": "light"
     },
     "output_type": "display_data"
    }
   ],
   "source": [
    "for x in fmaps_pool:\n",
    "    map_stack = np.hstack(x)\n",
    "    print(map_stack.shape)\n",
    "    plt.matshow(map_stack, cmap='viridis')"
   ]
  },
  {
   "cell_type": "markdown",
   "metadata": {},
   "source": [
    "### Fashion MNIST"
   ]
  },
  {
   "cell_type": "code",
   "execution_count": 34,
   "metadata": {},
   "outputs": [],
   "source": [
    "activations = activation_model.predict(img_tensor_fmnist)\n",
    "first_layer_activation = activations[0]"
   ]
  },
  {
   "cell_type": "code",
   "execution_count": 35,
   "metadata": {},
   "outputs": [
    {
     "data": {
      "text/plain": [
       "<matplotlib.image.AxesImage at 0x7f9ec4632518>"
      ]
     },
     "execution_count": 35,
     "metadata": {},
     "output_type": "execute_result"
    },
    {
     "data": {
      "image/png": "[encoded data removed]",
      "text/plain": [
       "<Figure size 288x288 with 1 Axes>"
      ]
     },
     "metadata": {
      "needs_background": "light"
     },
     "output_type": "display_data"
    }
   ],
   "source": [
    "plt.matshow(first_layer_activation[0, :, :, 0], cmap='viridis')"
   ]
  },
  {
   "cell_type": "code",
   "execution_count": 36,
   "metadata": {},
   "outputs": [],
   "source": [
    "layer_names = []\n",
    "for layer in model.layers[:4]:\n",
    "    layer_names.append(layer.name)"
   ]
  },
  {
   "cell_type": "code",
   "execution_count": 37,
   "metadata": {},
   "outputs": [
    {
     "name": "stdout",
     "output_type": "stream",
     "text": [
      "name: conv2d\n",
      "activation: (1, 24, 24, 6)\n",
      "feature_maps_shape: (6, 24, 24)\n",
      "name: max_pooling2d\n",
      "activation: (1, 12, 12, 6)\n",
      "feature_maps_shape: (6, 12, 12)\n",
      "name: conv2d_1\n",
      "activation: (1, 8, 8, 16)\n",
      "feature_maps_shape: (16, 8, 8)\n",
      "name: max_pooling2d_1\n",
      "activation: (1, 4, 4, 16)\n",
      "feature_maps_shape: (16, 4, 4)\n"
     ]
    }
   ],
   "source": [
    "fmaps_pool = []\n",
    "for layer_name, layer_activation in zip(layer_names, activations):\n",
    "    print(\"name: {0}\\nactivation: {1}\".format(layer_name, layer_activation.shape))\n",
    "    n_features = layer_activation.shape[-1]\n",
    "    size = layer_activation.shape[1]\n",
    "    for fmaps in layer_activation:\n",
    "        fmapsT = np.transpose(fmaps, (2, 0, 1))\n",
    "        print(\"feature_maps_shape: {}\".format(fmapsT.shape))\n",
    "        fmap_layer = []\n",
    "        for fmapT in fmapsT:\n",
    "            fmap_layer.append(fmapT)\n",
    "        fmaps_pool.append(fmap_layer)"
   ]
  },
  {
   "cell_type": "code",
   "execution_count": 38,
   "metadata": {},
   "outputs": [
    {
     "name": "stdout",
     "output_type": "stream",
     "text": [
      "(24, 144)\n",
      "(12, 72)\n",
      "(8, 128)\n",
      "(4, 64)\n"
     ]
    },
    {
     "data": {
      "image/png": "[encoded data removed]",
      "text/plain": [
       "<Figure size 1152x192 with 1 Axes>"
      ]
     },
     "metadata": {
      "needs_background": "light"
     },
     "output_type": "display_data"
    },
    {
     "data": {
      "image/png": "[encoded data removed]",
      "text/plain": [
       "<Figure size 1152x192 with 1 Axes>"
      ]
     },
     "metadata": {
      "needs_background": "light"
     },
     "output_type": "display_data"
    },
    {
     "data": {
      "image/png": "[encoded data removed]",
      "text/plain": [
       "<Figure size 1152x144 with 1 Axes>"
      ]
     },
     "metadata": {
      "needs_background": "light"
     },
     "output_type": "display_data"
    },
    {
     "data": {
      "image/png": "[encoded data removed]",
      "text/plain": [
       "<Figure size 1152x144 with 1 Axes>"
      ]
     },
     "metadata": {
      "needs_background": "light"
     },
     "output_type": "display_data"
    }
   ],
   "source": [
    "for x in fmaps_pool:\n",
    "    map_stack = np.hstack(x)\n",
    "    print(map_stack.shape)\n",
    "    plt.matshow(map_stack, cmap='viridis')"
   ]
  },
  {
   "cell_type": "markdown",
   "metadata": {},
   "source": [
    "## Prediction"
   ]
  },
  {
   "cell_type": "markdown",
   "metadata": {},
   "source": [
    "### MNIST"
   ]
  },
  {
   "cell_type": "code",
   "execution_count": 39,
   "metadata": {},
   "outputs": [],
   "source": [
    "prediction = model.predict(img_tensor_mnist)"
   ]
  },
  {
   "cell_type": "code",
   "execution_count": 40,
   "metadata": {},
   "outputs": [
    {
     "data": {
      "text/plain": [
       "array([[2.0584559e-07, 2.9034566e-12, 3.7137536e-07, 5.4587263e-06,\n",
       "        6.2911298e-09, 3.8895028e-08, 1.3141309e-08, 2.1082727e-10,\n",
       "        9.9999392e-01, 2.2594586e-09]], dtype=float32)"
      ]
     },
     "execution_count": 40,
     "metadata": {},
     "output_type": "execute_result"
    }
   ],
   "source": [
    "prediction"
   ]
  },
  {
   "cell_type": "code",
   "execution_count": 41,
   "metadata": {},
   "outputs": [
    {
     "data": {
      "text/plain": [
       "8"
      ]
     },
     "execution_count": 41,
     "metadata": {},
     "output_type": "execute_result"
    }
   ],
   "source": [
    "np.argmax(prediction)"
   ]
  },
  {
   "cell_type": "markdown",
   "metadata": {},
   "source": [
    "### Fashion MNIST"
   ]
  },
  {
   "cell_type": "code",
   "execution_count": 42,
   "metadata": {},
   "outputs": [],
   "source": [
    "prediction = model.predict(img_tensor_fmnist)"
   ]
  },
  {
   "cell_type": "code",
   "execution_count": 43,
   "metadata": {},
   "outputs": [
    {
     "data": {
      "text/plain": [
       "array([[0.00333872, 0.00380978, 0.00725848, 0.00757103, 0.05778079,\n",
       "        0.01174334, 0.09518273, 0.00231111, 0.80000633, 0.01099769]],\n",
       "      dtype=float32)"
      ]
     },
     "execution_count": 43,
     "metadata": {},
     "output_type": "execute_result"
    }
   ],
   "source": [
    "prediction"
   ]
  },
  {
   "cell_type": "code",
   "execution_count": 44,
   "metadata": {},
   "outputs": [
    {
     "data": {
      "text/plain": [
       "8"
      ]
     },
     "execution_count": 44,
     "metadata": {},
     "output_type": "execute_result"
    }
   ],
   "source": [
    "np.argmax(prediction)"
   ]
  },
  {
   "cell_type": "markdown",
   "metadata": {},
   "source": [
    "# Appendix"
   ]
  },
  {
   "cell_type": "code",
   "execution_count": 45,
   "metadata": {},
   "outputs": [],
   "source": [
    "img_tensor = np.expand_dims(map_stack, axis=0)"
   ]
  },
  {
   "cell_type": "code",
   "execution_count": 46,
   "metadata": {},
   "outputs": [],
   "source": [
    "images_per_row = 6"
   ]
  },
  {
   "cell_type": "code",
   "execution_count": 47,
   "metadata": {
    "scrolled": false
   },
   "outputs": [
    {
     "data": {
      "image/png": "[encoded data removed]",
      "text/plain": [
       "<Figure size 432x432 with 1 Axes>"
      ]
     },
     "metadata": {
      "needs_background": "light"
     },
     "output_type": "display_data"
    },
    {
     "data": {
      "image/png": "[encoded data removed]",
      "text/plain": [
       "<Figure size 432x432 with 1 Axes>"
      ]
     },
     "metadata": {
      "needs_background": "light"
     },
     "output_type": "display_data"
    },
    {
     "data": {
      "image/png": "[encoded data removed]",
      "text/plain": [
       "<Figure size 432x1152 with 1 Axes>"
      ]
     },
     "metadata": {
      "needs_background": "light"
     },
     "output_type": "display_data"
    },
    {
     "data": {
      "image/png": "[encoded data removed]",
      "text/plain": [
       "<Figure size 432x1152 with 1 Axes>"
      ]
     },
     "metadata": {
      "needs_background": "light"
     },
     "output_type": "display_data"
    }
   ],
   "source": [
    "for layer_name, layer_activation in zip(layer_names, activations):\n",
    "    n_features = layer_activation.shape[-1]\n",
    "    size = layer_activation.shape[1]\n",
    "    n_cols = n_features\n",
    "    display_grid = np.zeros((size * n_cols, images_per_row * size))\n",
    "    for col in range(int(np.ceil(n_cols/images_per_row))):\n",
    "        for row in range(images_per_row):\n",
    "            if col * images_per_row + row < n_cols:\n",
    "                channel_image = layer_activation[0,:, :,col * images_per_row + row]\n",
    "                display_grid[col * size : (col + 1) * size,row * size : (row + 1) * size] = channel_image\n",
    "    scale = 1. / size\n",
    "    plt.figure(figsize=(scale * display_grid.shape[1],\n",
    "                        scale * display_grid.shape[0]))\n",
    "    plt.title(layer_name)\n",
    "    plt.grid(False)\n",
    "    plt.imshow(display_grid, aspect='auto', cmap='viridis')"
   ]
  },
  {
   "cell_type": "code",
   "execution_count": 48,
   "metadata": {
    "scrolled": false
   },
   "outputs": [
    {
     "name": "stdout",
     "output_type": "stream",
     "text": [
      "0 6 0\n",
      "0\n",
      "0 6 1\n",
      "1\n",
      "0 6 2\n",
      "2\n",
      "0 6 3\n",
      "3\n",
      "0 6 4\n",
      "4\n",
      "0 6 5\n",
      "5\n",
      "0 6 0\n",
      "0\n",
      "0 6 1\n",
      "1\n",
      "0 6 2\n",
      "2\n",
      "0 6 3\n",
      "3\n",
      "0 6 4\n",
      "4\n",
      "0 6 5\n",
      "5\n",
      "0 6 0\n",
      "0\n",
      "0 6 1\n",
      "1\n",
      "0 6 2\n",
      "2\n",
      "0 6 3\n",
      "3\n",
      "0 6 4\n",
      "4\n",
      "0 6 5\n",
      "5\n",
      "1 6 0\n",
      "6\n",
      "1 6 1\n",
      "7\n",
      "1 6 2\n",
      "8\n",
      "1 6 3\n",
      "9\n",
      "1 6 4\n",
      "10\n",
      "1 6 5\n",
      "11\n",
      "2 6 0\n",
      "12\n",
      "2 6 1\n",
      "13\n",
      "2 6 2\n",
      "14\n",
      "2 6 3\n",
      "15\n",
      "2 6 4\n",
      "16\n",
      "2 6 5\n",
      "17\n",
      "0 6 0\n",
      "0\n",
      "0 6 1\n",
      "1\n",
      "0 6 2\n",
      "2\n",
      "0 6 3\n",
      "3\n",
      "0 6 4\n",
      "4\n",
      "0 6 5\n",
      "5\n",
      "1 6 0\n",
      "6\n",
      "1 6 1\n",
      "7\n",
      "1 6 2\n",
      "8\n",
      "1 6 3\n",
      "9\n",
      "1 6 4\n",
      "10\n",
      "1 6 5\n",
      "11\n",
      "2 6 0\n",
      "12\n",
      "2 6 1\n",
      "13\n",
      "2 6 2\n",
      "14\n",
      "2 6 3\n",
      "15\n",
      "2 6 4\n",
      "16\n",
      "2 6 5\n",
      "17\n"
     ]
    },
    {
     "name": "stderr",
     "output_type": "stream",
     "text": [
      "/usr/local/lib/python3.6/dist-packages/ipykernel_launcher.py:14: RuntimeWarning: invalid value encountered in true_divide\n",
      "  \n"
     ]
    },
    {
     "data": {
      "image/png": "[encoded data removed]",
      "text/plain": [
       "<Figure size 432x432 with 1 Axes>"
      ]
     },
     "metadata": {
      "needs_background": "light"
     },
     "output_type": "display_data"
    },
    {
     "data": {
      "image/png": "[encoded data removed]",
      "text/plain": [
       "<Figure size 432x432 with 1 Axes>"
      ]
     },
     "metadata": {
      "needs_background": "light"
     },
     "output_type": "display_data"
    },
    {
     "data": {
      "image/png": "[encoded data removed]",
      "text/plain": [
       "<Figure size 432x1152 with 1 Axes>"
      ]
     },
     "metadata": {
      "needs_background": "light"
     },
     "output_type": "display_data"
    },
    {
     "data": {
      "image/png": "[encoded data removed]",
      "text/plain": [
       "<Figure size 432x1152 with 1 Axes>"
      ]
     },
     "metadata": {
      "needs_background": "light"
     },
     "output_type": "display_data"
    }
   ],
   "source": [
    "for layer_name, layer_activation in zip(layer_names, activations):\n",
    "    n_features = layer_activation.shape[-1]\n",
    "    size = layer_activation.shape[1]\n",
    "    n_cols = n_features\n",
    "    display_grid = np.zeros((size * n_cols, images_per_row * size))\n",
    "    for col in range(int(np.ceil(n_cols/images_per_row))):\n",
    "#     for col in range(n_cols):\n",
    "        for row in range(images_per_row):\n",
    "            print(col,images_per_row,row)\n",
    "            print(col * images_per_row + row)\n",
    "            if col * images_per_row + row < n_cols:\n",
    "                channel_image = layer_activation[0,:, :,col * images_per_row + row]\n",
    "                channel_image -= channel_image.mean()\n",
    "                channel_image /= channel_image.std()\n",
    "                channel_image *= 64\n",
    "                channel_image += 128\n",
    "                channel_image = np.clip(channel_image, 0, 255).astype('uint8')\n",
    "                display_grid[col * size : (col + 1) * size,row * size : (row + 1) * size] = channel_image\n",
    "    scale = 1. / size\n",
    "    plt.figure(figsize=(scale * display_grid.shape[1],\n",
    "                        scale * display_grid.shape[0]))\n",
    "    plt.title(layer_name)\n",
    "    plt.grid(False)\n",
    "    plt.imshow(display_grid, aspect='auto', cmap='viridis')"
   ]
  }
 ],
 "metadata": {
  "kernelspec": {
   "display_name": "Python 3",
   "language": "python",
   "name": "python3"
  },
  "language_info": {
   "codemirror_mode": {
    "name": "ipython",
    "version": 3
   },
   "file_extension": ".py",
   "mimetype": "text/x-python",
   "name": "python",
   "nbconvert_exporter": "python",
   "pygments_lexer": "ipython3",
   "version": "3.6.8"
  }
 },
 "nbformat": 4,
 "nbformat_minor": 2
}
